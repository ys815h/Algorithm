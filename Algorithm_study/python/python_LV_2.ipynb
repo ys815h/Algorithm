{
  "nbformat": 4,
  "nbformat_minor": 0,
  "metadata": {
    "colab": {
      "provenance": [],
      "authorship_tag": "ABX9TyM1I34Se52gu/npJJgjIYCB",
      "include_colab_link": true
    },
    "kernelspec": {
      "name": "python3",
      "display_name": "Python 3"
    },
    "language_info": {
      "name": "python"
    }
  },
  "cells": [
    {
      "cell_type": "markdown",
      "metadata": {
        "id": "view-in-github",
        "colab_type": "text"
      },
      "source": [
        "<a href=\"https://colab.research.google.com/github/ys815h/Algorithm/blob/main/Algorithm_study/python/python_LV_2.ipynb\" target=\"_parent\"><img src=\"https://colab.research.google.com/assets/colab-badge.svg\" alt=\"Open In Colab\"/></a>"
      ]
    },
    {
      "cell_type": "code",
      "execution_count": null,
      "metadata": {
        "colab": {
          "base_uri": "https://localhost:8080/"
        },
        "id": "Ir6yuGXGDDng",
        "outputId": "c83e381c-0d02-439e-a768-c5450cc07cbf"
      },
      "outputs": [
        {
          "output_type": "stream",
          "name": "stdout",
          "text": [
            "[2, 1]\n"
          ]
        }
      ],
      "source": [
        "# LV.2 기능개발(스택, 큐)\n",
        "\n",
        "# 먼저 배포되어야 하는 순서대로 작업의 진도가 적힌 정수 배열 progresse\n",
        "# 각 작업의 개발 속도가 적힌 정수 배열 speeds\n",
        "# 각 배포마다 몇 개의 기능이 배포되는지를 return\n",
        "# 배포는 하루에 한 번, 진도율이 95%인 작업의 개발 속도가 하루에 4%라면 배포는 2일 뒤\n",
        "\n",
        "# progresse에 speed만큼 차오름, 인덱스 맨앞이 100이상이 됐을 때 빠짐, 이 때 뒤의 인덱스에서 100넘긴것들도 함께 빠짐 이 갯수를 새서 배열로 return\n",
        "\n",
        "# 다시 생각\n",
        "# 프로그래스배열이 다빠질때까지 돌림\n",
        "# 첫번째 조건 if p[0] + s[0]*day 값이 100 넘으면 pop(speed)와 함께 이 때, cnt개수가 증가되야함\n",
        "# 아닐때 100이 안넘으면 cnt를 append 후 초기화 + day를 증가시킴\n",
        "# 첫 100이 넘는 값을 다 돌고 났을때 cnt를 append 해야 하므로 조건문 마지막에 append\n",
        "\n",
        "from  collections import deque\n",
        "def solution(progresses, speeds):\n",
        "    answer = []\n",
        "    p_q = deque(progresses)\n",
        "    s_q = deque(speeds)\n",
        "    day, cnt = 1, 0\n",
        "    while p_q:\n",
        "        if p_q[0] + s_q[0]*day >= 100:\n",
        "            p_q.popleft()\n",
        "            s_q.popleft()\n",
        "            cnt += 1\n",
        "        else:\n",
        "            if cnt > 0:\n",
        "                answer.append(cnt)\n",
        "                cnt = 0\n",
        "            day += 1\n",
        "    answer.append(cnt)\n",
        "\n",
        "    return answer\n",
        "\n",
        "progresses = [93, 30, 55]\n",
        "speeds = [1, 30, 5]\n",
        "\n",
        "print(solution(progresses, speeds))"
      ]
    },
    {
      "cell_type": "code",
      "source": [],
      "metadata": {
        "id": "HMUaRO28nPck"
      },
      "execution_count": null,
      "outputs": []
    },
    {
      "cell_type": "code",
      "source": [
        "# LV.2 프로세스(스택, 큐)\n",
        "\n",
        "# 1.대기 큐(Queue)에서 대기중인 프로세스 하나를 꺼냄\n",
        "# 2.큐에 대기중인 프로세스 중 우선순위 높은 프로세스 있으면 꺼낸거 다시 넣음\n",
        "# 3.(2.)가 없으면 방금 꺼낸거 실행\n",
        "# 3-1. 실행한거는 그대로 pop\n",
        "# 즉 우선순위 높은 priorities index가 먼저 실행\n",
        "\n",
        "# 1. 가상의 인덱스 만듬[0,1,2,3] p_q랑 똑같이 pop, append 시킴\n",
        "# 2. 변동이될 때 location도 값을 변동 시킴 if location이 0이하가 되면 나머지 인덱스의 길이-1 을 넣어줌\n",
        "\n",
        "from collections import deque\n",
        "def solution(priorities, location):\n",
        "    ans = 0\n",
        "    p_q = deque(priorities)\n",
        "    cnt = 0   # 실행된 횟수\n",
        "    comp = deque([i for i in range(0, len(p_q))])\n",
        "    print(comp)\n",
        "    while p_q:\n",
        "        if p_q[0] < max(p_q):\n",
        "            p_q.append(p_q.popleft())\n",
        "            comp.append(comp.popleft())\n",
        "        else:\n",
        "            cnt += 1\n",
        "            if comp[0] == location:\n",
        "                ans = cnt\n",
        "                break\n",
        "            p_q.popleft()\n",
        "            comp.popleft()\n",
        "    return ans\n",
        "print(solution([2, 1, 3, 2], 2))\n",
        "\n",
        "\n",
        "\n",
        "# location 값을 변동 시키자\n",
        "def solution2(priorities, location):\n",
        "  p_q = deque(priorities)\n",
        "  ans = 0\n",
        "  cnt = 0   # 실행된 횟수\n",
        "\n",
        "  while p_q:\n",
        "    if p_q[0] < max(p_q):\n",
        "      p_q.append(p_q.popleft())\n",
        "      if location == 0:\n",
        "        location = len(p_q)-1\n",
        "      else:\n",
        "        location -= 1\n",
        "    else:\n",
        "      cnt += 1\n",
        "      if location == 0:\n",
        "        ans = cnt\n",
        "        break\n",
        "      p_q.popleft()\n",
        "      location -= 1\n",
        "  return ans\n",
        "print(solution2([1, 1, 9, 1, 1, 1], 2))\n"
      ],
      "metadata": {
        "colab": {
          "base_uri": "https://localhost:8080/"
        },
        "id": "yVRtaicLDFWU",
        "outputId": "1474155f-6d71-470d-eb18-e496321e96e8"
      },
      "execution_count": null,
      "outputs": [
        {
          "output_type": "stream",
          "name": "stdout",
          "text": [
            "deque([0, 1, 2, 3])\n",
            "1\n",
            "1\n"
          ]
        }
      ]
    },
    {
      "cell_type": "code",
      "source": [
        "# LV.2 최댓값과 최솟값\n",
        "# 문자열 s에는 공백으로 구분된 숫자들이 저장\n",
        "# str에 나타나는 숫자 중 최소값과 최대값을 찾아 이를 \"(최소값) (최대값)\"형태의 문자열을 반환\n",
        "# s가 \"1 2 3 4\"라면 \"1 4\"를 리턴하고, \"-1 -2 -3 -4\"라면 \"-4 -1\"을 리턴\n",
        "\n",
        "def solution(s):\n",
        "    arr = list(map(int, list(s.split())))\n",
        "    return str(min(arr)) +\" \" + str(max(arr))\n",
        "print(solution(\"-1 -2 -3 -4 1\"))\n",
        "\n",
        "# Refactoring\n",
        "def solution2(n):\n",
        "    n = list(map(int, n.split()))\n",
        "    return str(min(n)) + \" \" + str(max(n))\n",
        "print(solution2(\"-1 -2 -3 -4\"))"
      ],
      "metadata": {
        "colab": {
          "base_uri": "https://localhost:8080/"
        },
        "id": "aSQcfhTdDHsF",
        "outputId": "15372787-caba-4607-9784-a158280d9203"
      },
      "execution_count": null,
      "outputs": [
        {
          "output_type": "stream",
          "name": "stdout",
          "text": [
            "-4 1\n",
            "-4 -1\n"
          ]
        }
      ]
    },
    {
      "cell_type": "code",
      "source": [
        "# LV.2 JadenCase 문자열 만들기\n",
        "\n",
        "# 모든 단어의 첫 문자가 대문자, 그 외의 알파벳은 소문자인 문자열, 첫 문자가 알파벳이 아닐 때에는 이어지는 알파벳은 소문자로\n",
        "# 문자열 s가 주어졌을 때, s를 JadenCase로 바꾼 문자열을 리턴\n",
        "\n",
        "# 공백을 기준으로 쪼개서 앞글자만 upper 공백이면 다시 넣어주고, \"\".join()함수로 \" \"공백을 집어 넣어줌\n",
        "\n",
        "\n",
        "def solution(s):\n",
        "    a = []\n",
        "    arr = s.split(\" \")\n",
        "    print(arr)\n",
        "    for i in range(len(arr)):\n",
        "        if arr[i] != '':\n",
        "            a.append(arr[i][0].upper() + arr[i][1:].lower())\n",
        "        else:\n",
        "            a.append(arr[i])\n",
        "    return \" \".join(a)\n",
        "print(solution(\"3people   unFollowed  me\"))\n"
      ],
      "metadata": {
        "colab": {
          "base_uri": "https://localhost:8080/"
        },
        "id": "I7xNIxmZDRFT",
        "outputId": "594bfe0f-7261-4d26-bbc1-80977e61d2eb"
      },
      "execution_count": null,
      "outputs": [
        {
          "output_type": "stream",
          "name": "stdout",
          "text": [
            "['3people', '', '', 'unFollowed', '', 'me']\n",
            "3people   Unfollowed  Me\n"
          ]
        }
      ]
    },
    {
      "cell_type": "markdown",
      "source": [],
      "metadata": {
        "id": "u6h8NPJqLgo6"
      }
    },
    {
      "cell_type": "code",
      "source": [
        "# LV.2 올바른 괄호\n",
        "\n",
        "# 시작은 열려 있고 마지막은 닫혀야 함\n",
        "# 위 if문을 통과 했을 때 열린태그와 닫힌 태그의 개수는 같아야 함\n",
        "\n",
        "# def solution(s):\n",
        "#     st = []\n",
        "#     arr = list(s)\n",
        "#     print(arr)\n",
        "#     for i in range(len(arr)):\n",
        "#         if st == []:\n",
        "#             if arr[0] == \")\":\n",
        "#                 return False\n",
        "#                 break\n",
        "#             else:\n",
        "#                 st.append(\"(\")\n",
        "#         else:\n",
        "#             print(\"현재 스택 : \")\n",
        "#             print(st)\n",
        "#             if st[-1] == \"(\" and arr[i] == \")\":\n",
        "#                 st.pop()\n",
        "#                 print(\"날리기 후\")\n",
        "#                 print(st)\n",
        "#             else:\n",
        "#                 st.append(arr[i])\n",
        "#                 print(\"붙이기 후\")\n",
        "#                 print(st)\n",
        "#     if st == []:\n",
        "#         answer = True\n",
        "#     else:\n",
        "#         answer = False\n",
        "#     return answer\n",
        "# # print(solution(\"()()\"))\n",
        "# print(solution(\"()(((())\"))\n",
        "# # print(solution(\")()(\"))\n",
        "# # print(solution(\"(()()\"))\n",
        "\n",
        "# Refactoring\n",
        "\n",
        "def is_pair(s):\n",
        "    st = list()\n",
        "    for c in s:\n",
        "        if c == '(':\n",
        "            st.append(c)\n",
        "\n",
        "        if c == ')':\n",
        "            try:\n",
        "                st.pop()\n",
        "            except IndexError:\n",
        "                return False\n",
        "\n",
        "    return len(st) == 0\n",
        "# 아래는 테스트로 출력해 보기 위한 코드입니다.\n",
        "print( is_pair(\"((()\"))\n",
        "print( is_pair(\"()()()\"))"
      ],
      "metadata": {
        "colab": {
          "base_uri": "https://localhost:8080/"
        },
        "id": "wAWcE5WNVAnL",
        "outputId": "44301388-3796-4747-d0a9-19009641428b"
      },
      "execution_count": null,
      "outputs": [
        {
          "output_type": "stream",
          "name": "stdout",
          "text": [
            "False\n",
            "True\n"
          ]
        }
      ]
    },
    {
      "cell_type": "code",
      "source": [
        "# LV.2 최솟값 만들기\n",
        "# A, B에서 각각 한 개의 숫자를 뽑아 두 수를 곱\n",
        "# 배열의 길이만큼 반복하며, 두 수를 곱한 값을 누적하여 더함, 이 때 누적값을 최솟값으로 return\n",
        "\n",
        "from collections import deque\n",
        "\n",
        "def solution(A,B):\n",
        "    A.sort()\n",
        "    B.sort(reverse=True)\n",
        "    a = deque(A)\n",
        "    b = deque(B)\n",
        "    sum = 0\n",
        "    for i in range(len(a)):\n",
        "        sum += a[0] * b[0]\n",
        "        a.popleft()\n",
        "        b.popleft()\n",
        "    return sum\n",
        "\n",
        "# print(solution([1, 4, 2], [4, 5, 4])) # 29 return\n",
        "# print(solution([1, 2], [3, 4])) # 10 return\n",
        "\n",
        "\n",
        "# def solution(A,B):\n",
        "#     A.sort()\n",
        "#     B.sort(reverse=True)\n",
        "#     sum = 0\n",
        "#     print(A)\n",
        "#     print(B)\n",
        "#     for i in range(len(A)):\n",
        "#         print(A)\n",
        "#         print(B)\n",
        "#         sum += (A[0] * B[0])\n",
        "#         print(sum)\n",
        "#         A.pop(0)\n",
        "#         B.pop(0)\n",
        "#     return sum\n",
        "\n",
        "# # print(solution([1, 4, 2], [4, 5, 4])) # 29 return\n",
        "# print(solution([1, 2], [3, 4])) # 10 return"
      ],
      "metadata": {
        "id": "6NFxF1L-0U8A"
      },
      "execution_count": null,
      "outputs": []
    },
    {
      "cell_type": "code",
      "source": [
        "# LV.2 이진 변환 반복하기\n",
        "# 1. x의 모든 0을 제거합니다.  2. x의 길이를 c라고 하면, x를 \"c를 2진법으로 표현한 문자열\"로 바꿉니다.\n",
        "# 0, 1만 존재\n",
        "# 0 제거후 길이를 2진수로 변환 -> 길이가 1이 될때 까지 -> 진행한 횟수 cnt를 a, 제거한 0 개수를 b [a, b]\n",
        "\n",
        "# (1). while문으로 길이가 1이될 때 까지 앞에서 값이'0'인 해당 인덱스 pop 진행(이때 sum개수도 증가)하고 cnt 증가\n",
        "# (2). while문으로 길이가 1이될 ~~~~  값이'1'인 개수 셈 -> 2진변환 시켜서 가상 배열에 담음(이걸 함수를 따로 만들거나 해둠)\n",
        "\n",
        "def solution(s):\n",
        "    answer = []\n",
        "    a=list(s)\n",
        "    sum, minus, cnt = 0, 0, 0\n",
        "\n",
        "    while len(a) > 1:\n",
        "        print(a)\n",
        "        for i in range(len(a)):\n",
        "            if a[i] == '1':\n",
        "                # a.pop(i)\n",
        "                sum += 1\n",
        "\n",
        "                print(\"1 개수 증가\")\n",
        "                print(sum)\n",
        "\n",
        "        minus += len(a) - sum\n",
        "        print(minus)\n",
        "\n",
        "        # 2진 변환 ㄱ\n",
        "        a = []\n",
        "        while sum > 1:\n",
        "            if sum % 2 == 1:\n",
        "                a.append('1')\n",
        "            else:\n",
        "                a.append('0')\n",
        "\n",
        "        cnt += 1\n",
        "        sum = 0\n",
        "    answer.append(sum, cnt)\n",
        "    return answer\n",
        "print(solution('0110')) # [3, 3]"
      ],
      "metadata": {
        "colab": {
          "base_uri": "https://localhost:8080/",
          "height": 450
        },
        "id": "S3PaPjj4jMGa",
        "outputId": "86a73f6b-4256-4361-88cb-92df7a3c15dc"
      },
      "execution_count": null,
      "outputs": [
        {
          "output_type": "stream",
          "name": "stdout",
          "text": [
            "['0', '1', '1', '0']\n",
            "1 개수 증가\n",
            "1\n",
            "1 개수 증가\n",
            "2\n",
            "2\n"
          ]
        },
        {
          "output_type": "error",
          "ename": "KeyboardInterrupt",
          "evalue": "ignored",
          "traceback": [
            "\u001b[0;31m---------------------------------------------------------------------------\u001b[0m",
            "\u001b[0;31mKeyboardInterrupt\u001b[0m                         Traceback (most recent call last)",
            "\u001b[0;32m<ipython-input-57-b287cfe61729>\u001b[0m in \u001b[0;36m<cell line: 39>\u001b[0;34m()\u001b[0m\n\u001b[1;32m     37\u001b[0m     \u001b[0manswer\u001b[0m\u001b[0;34m.\u001b[0m\u001b[0mappend\u001b[0m\u001b[0;34m(\u001b[0m\u001b[0msum\u001b[0m\u001b[0;34m,\u001b[0m \u001b[0mcnt\u001b[0m\u001b[0;34m)\u001b[0m\u001b[0;34m\u001b[0m\u001b[0;34m\u001b[0m\u001b[0m\n\u001b[1;32m     38\u001b[0m     \u001b[0;32mreturn\u001b[0m \u001b[0manswer\u001b[0m\u001b[0;34m\u001b[0m\u001b[0;34m\u001b[0m\u001b[0m\n\u001b[0;32m---> 39\u001b[0;31m \u001b[0mprint\u001b[0m\u001b[0;34m(\u001b[0m\u001b[0msolution\u001b[0m\u001b[0;34m(\u001b[0m\u001b[0;34m'0110'\u001b[0m\u001b[0;34m)\u001b[0m\u001b[0;34m)\u001b[0m \u001b[0;31m# [3, 3]\u001b[0m\u001b[0;34m\u001b[0m\u001b[0;34m\u001b[0m\u001b[0m\n\u001b[0m",
            "\u001b[0;32m<ipython-input-57-b287cfe61729>\u001b[0m in \u001b[0;36msolution\u001b[0;34m(s)\u001b[0m\n\u001b[1;32m     31\u001b[0m                 \u001b[0ma\u001b[0m\u001b[0;34m.\u001b[0m\u001b[0mappend\u001b[0m\u001b[0;34m(\u001b[0m\u001b[0;34m'1'\u001b[0m\u001b[0;34m)\u001b[0m\u001b[0;34m\u001b[0m\u001b[0;34m\u001b[0m\u001b[0m\n\u001b[1;32m     32\u001b[0m             \u001b[0;32melse\u001b[0m\u001b[0;34m:\u001b[0m\u001b[0;34m\u001b[0m\u001b[0;34m\u001b[0m\u001b[0m\n\u001b[0;32m---> 33\u001b[0;31m                 \u001b[0ma\u001b[0m\u001b[0;34m.\u001b[0m\u001b[0mappend\u001b[0m\u001b[0;34m(\u001b[0m\u001b[0;34m'0'\u001b[0m\u001b[0;34m)\u001b[0m\u001b[0;34m\u001b[0m\u001b[0;34m\u001b[0m\u001b[0m\n\u001b[0m\u001b[1;32m     34\u001b[0m \u001b[0;34m\u001b[0m\u001b[0m\n\u001b[1;32m     35\u001b[0m         \u001b[0mcnt\u001b[0m \u001b[0;34m+=\u001b[0m \u001b[0;36m1\u001b[0m\u001b[0;34m\u001b[0m\u001b[0;34m\u001b[0m\u001b[0m\n",
            "\u001b[0;31mKeyboardInterrupt\u001b[0m: "
          ]
        }
      ]
    },
    {
      "cell_type": "code",
      "source": [
        "# LV.2 이진 변환 반복하기\n",
        "# 1. x의 모든 0을 제거합니다.  2. x의 길이를 c라고 하면, x를 \"c를 2진법으로 표현한 문자열\"로 바꿉니다.\n",
        "# 0, 1만 존재\n",
        "# 0 제거후 길이를 2진수로 변환 -> 길이가 1이 될때 까지 -> 진행한 횟수 cnt를 a, 제거한 0 개수를 b [a, b]\n",
        "\n",
        "# (1). while문으로 길이가 1이될 때 까지 앞에서 값이'0'인 해당 인덱스 pop 진행(이때 sum개수도 증가)하고 cnt 증가\n",
        "# (2). while문으로 길이가 1이될 ~~~~  값이'1'인 개수 셈 -> 2진변환 시켜서 가상 배열에 담음(이걸 함수를 따로 만들거나 해둠)\n",
        "\n",
        "def solution(s):\n",
        "    answer = []\n",
        "    a = list(s)\n",
        "    sum, lenth, cnt, total = 0, 0, 0, 0\n",
        "\n",
        "    while len(a) > 1:\n",
        "        for i in range(len(a)):\n",
        "            if a[i] == '0':\n",
        "                sum += 1\n",
        "\n",
        "        # 2진 변환 ㄱ\n",
        "        lenth = len(a) - sum\n",
        "        a = []\n",
        "        while lenth > 0:\n",
        "            if lenth % 2 == 1:\n",
        "                a.append('1')\n",
        "            else:\n",
        "                a.append('0')\n",
        "            lenth / 2\n",
        "\n",
        "        cnt += 1\n",
        "        total += sum\n",
        "        sum = 0\n",
        "    answer.append(cnt, total)\n",
        "    return answer\n",
        "print(solution('0110')) # [3, 3]"
      ],
      "metadata": {
        "id": "rjm0YoO57429"
      },
      "execution_count": null,
      "outputs": []
    },
    {
      "cell_type": "markdown",
      "source": [],
      "metadata": {
        "id": "oQVhP8UejQb1"
      }
    },
    {
      "cell_type": "code",
      "source": [
        "a = []\n",
        "a.append('1')\n",
        "a.append('2')\n",
        "print(a)\n",
        "\n",
        "\n",
        "A = 1\n",
        "B = 2\n",
        "\n",
        "b = [A, B]\n",
        "print(b)"
      ],
      "metadata": {
        "colab": {
          "base_uri": "https://localhost:8080/"
        },
        "id": "fCJVTfZFcLoL",
        "outputId": "641a64fe-ab7b-43cf-fa5d-4d5b74c48f27"
      },
      "execution_count": null,
      "outputs": [
        {
          "output_type": "stream",
          "name": "stdout",
          "text": [
            "['1', '2']\n",
            "[1, 2]\n"
          ]
        }
      ]
    },
    {
      "cell_type": "code",
      "source": [
        "M, N = map(int, input().strip().split(' '))\n",
        "# alist = [i for i in range(M)]\n",
        "# V = len(alist)\n",
        "\n",
        "st = []\n",
        "# 재귀함수\n",
        "def dfs(M, N):\n",
        "\n",
        "    if len(st) == N:\n",
        "        print(st)\n",
        "        return  # 마지막으로 실행된 함수 종료 이제 그 위로 올라감\n",
        "\n",
        "    for i in range(1, M+1):\n",
        "\n",
        "        if i not in st:\n",
        "            st.append(i)\n",
        "            dfs(M, N)\n",
        "            # print와 return 이후 여기로 와서 진행됨\n",
        "            st.pop()\n",
        "dfs(M, N)"
      ],
      "metadata": {
        "colab": {
          "base_uri": "https://localhost:8080/"
        },
        "id": "eRmoWsorVk5J",
        "outputId": "37ad7e39-3e27-4590-c875-a8d368aa8900"
      },
      "execution_count": null,
      "outputs": [
        {
          "output_type": "stream",
          "name": "stdout",
          "text": [
            "4 4\n",
            "[1, 2, 3, 4]\n",
            "[1, 2, 4, 3]\n",
            "[1, 3, 2, 4]\n",
            "[1, 3, 4, 2]\n",
            "[1, 4, 2, 3]\n",
            "[1, 4, 3, 2]\n",
            "[2, 1, 3, 4]\n",
            "[2, 1, 4, 3]\n",
            "[2, 3, 1, 4]\n",
            "[2, 3, 4, 1]\n",
            "[2, 4, 1, 3]\n",
            "[2, 4, 3, 1]\n",
            "[3, 1, 2, 4]\n",
            "[3, 1, 4, 2]\n",
            "[3, 2, 1, 4]\n",
            "[3, 2, 4, 1]\n",
            "[3, 4, 1, 2]\n",
            "[3, 4, 2, 1]\n",
            "[4, 1, 2, 3]\n",
            "[4, 1, 3, 2]\n",
            "[4, 2, 1, 3]\n",
            "[4, 2, 3, 1]\n",
            "[4, 3, 1, 2]\n",
            "[4, 3, 2, 1]\n"
          ]
        }
      ]
    },
    {
      "cell_type": "code",
      "source": [
        "# LV.2 귤 고르기\n",
        "\n",
        "# tangerine에서 k개를 뽑음, 이 때 종류의 수가 최소화 되어야 함\n",
        "\n",
        "# 1. 가장 많은 종류 수가 1순위\n",
        "# 2. k개 만큼 뽑았을 때 나오는 종류의 수\n",
        "# 3. 종류의 수를 리턴\n",
        "\n",
        "# 접근방법 1.\n",
        "# k개 만큼 쌓였을 때 종류의 수를 쌓는 answer 리턴\n",
        "# 빈 배열에 종류의 수를 담음(append)\n",
        "# 종류의 수 배열을 내림차순으로 정렬시킴\n",
        "# 조건 종류의 수 배열을 for문 돌릴때마다 answer++ 각 인덱스 값을 더한 값이 k 이상일 때 answer 리턴\n",
        "# tangerine을 정렬 시킴\n",
        "def solution(k, tangerine):\n",
        "    answer = 0\n",
        "    amount_arr = []\n",
        "    amount = 1\n",
        "\n",
        "    tangerine.sort()\n",
        "    for i in range(len(tangerine)):\n",
        "        if tangerine[i] == tangerine[i-1]:\n",
        "            amount += 1\n",
        "        else:\n",
        "            amount_arr.append(amount)\n",
        "            amount = 1\n",
        "    amount_arr.append(amount)\n",
        "    amount_arr.sort(reverse=True)\n",
        "    amount = 0\n",
        "    for j in amount_arr:\n",
        "        if k <= amount:\n",
        "            break\n",
        "        amount += j\n",
        "        answer += 1\n",
        "\n",
        "    return answer\n",
        "\n",
        "# 자료형 풀이 법\n",
        "\n",
        "def sol(k, tangerine):\n",
        "    numbers = {}\n",
        "    for size in tangerine:\n",
        "        if size not in numbers:\n",
        "            numbers[size] = 0\n",
        "        numbers[size] += 1\n",
        "    print(numbers)\n",
        "    numbers = sorted(numbers.items(), key=lambda x: x[1], reverse=True)\n",
        "    count = 0\n",
        "    for i, (size, n) in enumerate(numbers, start=1):\n",
        "        count += n\n",
        "        if count >= k:\n",
        "            return i\n",
        "\n",
        "\n",
        "print(sol(6, [1, 3, 2, 5, 4, 5, 2, 3]))\n",
        "print(sol(4, [1, 3, 2, 5, 4, 5, 2, 3]))\n",
        "print(sol(2, [1, 1, 1, 1, 2, 2, 2, 3]))"
      ],
      "metadata": {
        "colab": {
          "base_uri": "https://localhost:8080/"
        },
        "id": "LfhCtcC4-bTT",
        "outputId": "3adabc6c-e86a-4e0d-f833-ea02d3c0e67e"
      },
      "execution_count": null,
      "outputs": [
        {
          "output_type": "stream",
          "name": "stdout",
          "text": [
            "{1: 1, 3: 2, 2: 2, 5: 2, 4: 1}\n",
            "3\n",
            "{1: 1, 3: 2, 2: 2, 5: 2, 4: 1}\n",
            "2\n",
            "{1: 4, 2: 3, 3: 1}\n",
            "1\n"
          ]
        }
      ]
    }
  ]
}