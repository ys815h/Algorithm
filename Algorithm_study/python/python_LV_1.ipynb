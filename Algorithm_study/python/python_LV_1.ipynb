{
  "nbformat": 4,
  "nbformat_minor": 0,
  "metadata": {
    "colab": {
      "provenance": [],
      "authorship_tag": "ABX9TyNb0+mAHbeOQbg4hq2oLBFg",
      "include_colab_link": true
    },
    "kernelspec": {
      "name": "python3",
      "display_name": "Python 3"
    },
    "language_info": {
      "name": "python"
    }
  },
  "cells": [
    {
      "cell_type": "markdown",
      "metadata": {
        "id": "view-in-github",
        "colab_type": "text"
      },
      "source": [
        "<a href=\"https://colab.research.google.com/github/ys815h/Algorithm/blob/main/Algorithm_study/python/python_LV_1.ipynb\" target=\"_parent\"><img src=\"https://colab.research.google.com/assets/colab-badge.svg\" alt=\"Open In Colab\"/></a>"
      ]
    },
    {
      "cell_type": "code",
      "execution_count": null,
      "metadata": {
        "colab": {
          "base_uri": "https://localhost:8080/",
          "height": 273
        },
        "id": "cZXWgbFdu2h4",
        "outputId": "6a8d6874-b547-448d-a4a6-b753f65cf922"
      },
      "outputs": [
        {
          "name": "stdout",
          "output_type": "stream",
          "text": [
            "\n"
          ]
        },
        {
          "output_type": "error",
          "ename": "ValueError",
          "evalue": "ignored",
          "traceback": [
            "\u001b[0;31m---------------------------------------------------------------------------\u001b[0m",
            "\u001b[0;31mValueError\u001b[0m                                Traceback (most recent call last)",
            "\u001b[0;32m<ipython-input-1-7ec776bb33b6>\u001b[0m in \u001b[0;36m<cell line: 3>\u001b[0;34m()\u001b[0m\n\u001b[1;32m      1\u001b[0m \u001b[0;31m# LV.1 약수의 합\u001b[0m\u001b[0;34m\u001b[0m\u001b[0;34m\u001b[0m\u001b[0m\n\u001b[1;32m      2\u001b[0m \u001b[0;31m# in은 안에 값이 포함되어있는지 판별\u001b[0m\u001b[0;34m\u001b[0m\u001b[0;34m\u001b[0m\u001b[0m\n\u001b[0;32m----> 3\u001b[0;31m \u001b[0mn\u001b[0m \u001b[0;34m=\u001b[0m \u001b[0mint\u001b[0m\u001b[0;34m(\u001b[0m\u001b[0minput\u001b[0m\u001b[0;34m(\u001b[0m\u001b[0;34m)\u001b[0m\u001b[0;34m)\u001b[0m\u001b[0;34m\u001b[0m\u001b[0;34m\u001b[0m\u001b[0m\n\u001b[0m\u001b[1;32m      4\u001b[0m \u001b[0;31m# sum = 0\u001b[0m\u001b[0;34m\u001b[0m\u001b[0;34m\u001b[0m\u001b[0m\n\u001b[1;32m      5\u001b[0m \u001b[0;31m# for i in range(1, n+1):\u001b[0m\u001b[0;34m\u001b[0m\u001b[0;34m\u001b[0m\u001b[0m\n",
            "\u001b[0;31mValueError\u001b[0m: invalid literal for int() with base 10: ''"
          ]
        }
      ],
      "source": [
        "# LV.1 약수의 합\n",
        "# in은 안에 값이 포함되어있는지 판별\n",
        "n = int(input())\n",
        "# sum = 0\n",
        "# for i in range(1, n+1):\n",
        "#   if(n % i == 0):\n",
        "#     sum += i\n",
        "# print(sum)\n",
        "\n",
        "# Refactoring\n",
        "def solution(n):\n",
        "    answer = n\n",
        "    for i in range(1, (n//2)+1):\n",
        "        if(n % i == 0):\n",
        "            answer += i\n",
        "\n",
        "    return answer\n",
        "print(solution(n))\n",
        "\n",
        "# def solution(n):\n",
        "#   return n + sum([i for i in range(1, (n//2) + 1) if n % i == 0])\n",
        "# print(solution(n))\n"
      ]
    },
    {
      "cell_type": "code",
      "source": [
        "# LV.1 나머지가 1이 되는 수 찾기\n",
        "\n",
        "n = int(input())\n",
        "\n",
        "# answer = 0\n",
        "# for i in range(1, n+1):\n",
        "#   if(n%i == 1):\n",
        "#     answer = i\n",
        "#     break\n",
        "# print(answer)\n",
        "\n",
        "# Refactoring\n",
        "def solution(n):\n",
        "  # x 배열에 1~n번째까지 (n%x == 1)인 값을 담고 0번째 인덱스 값을 리턴\n",
        "  return [x for x in range(1, n+1) if n% x == 1][0]\n",
        "print(solution(n))\n"
      ],
      "metadata": {
        "id": "Kkeae8cPu5DZ"
      },
      "execution_count": null,
      "outputs": []
    },
    {
      "cell_type": "code",
      "source": [
        "# LV.1 평균 구하기\n",
        "arr = [1,2,3,4]\n",
        "def solution(arr):\n",
        "  return sum(arr) / len(arr)\n",
        "print(solution(arr))"
      ],
      "metadata": {
        "colab": {
          "base_uri": "https://localhost:8080/"
        },
        "id": "zv6dMi6EvqvQ",
        "outputId": "635ae262-551b-403d-9b1d-bfc81fcf79ec"
      },
      "execution_count": null,
      "outputs": [
        {
          "output_type": "stream",
          "name": "stdout",
          "text": [
            "2.5\n"
          ]
        }
      ]
    },
    {
      "cell_type": "code",
      "source": [
        "# LV.1 자릿수 더하기\n",
        "\n",
        "\n",
        "#  최대한 이방법으로 떠올리고 풀어볼 것\n",
        "def solution(N):\n",
        "  answer = 0\n",
        "  ch_str = str(N)\n",
        "  ch_list = list(ch_str)\n",
        "  for i in ch_list:\n",
        "    answer += int(i)\n",
        "  return answer\n",
        "print(solution(123))\n",
        "\n",
        "# Refactoring\n",
        "#   sum_digit함수 자연수를 전달 받아 숫자의 각 자릿수의 합을 구해서 return시킴\n",
        "# def sum_digit(N):\n",
        "#   if N < 10:\n",
        "#     answer = N\n",
        "#     return answer\n",
        "#   answer = N % 10 + sum_digit(N/10)\n",
        "#   return answer\n",
        "# print(sum_digit(123))\n",
        "\n",
        "# 추가 리팩토링\n",
        "# list(map(A, B)) => A형태나 함수로 B리스트를 바꿈\n",
        "# def solution(N):\n",
        "#     return sum(list(map(int, list(str(N)))))\n",
        "# print(solution(123))"
      ],
      "metadata": {
        "colab": {
          "base_uri": "https://localhost:8080/"
        },
        "id": "uW0VsVHkwy9R",
        "outputId": "548d1eb1-320e-409a-d6ef-3314acdcd8e0"
      },
      "execution_count": null,
      "outputs": [
        {
          "output_type": "stream",
          "name": "stdout",
          "text": [
            "6\n"
          ]
        }
      ]
    },
    {
      "cell_type": "code",
      "source": [
        "# LV.1 짝수 홀수\n",
        "# 짝수의 경우 Even 반환 홀수 Odd 반환\n",
        "\n",
        "# def solution(num):\n",
        "#     if num % 2 == 0:\n",
        "#         answer = 'Even'\n",
        "#         return answer\n",
        "#     if num % 2 == 1:\n",
        "#         answer = 'Odd'\n",
        "#         return answer\n",
        "# print(solution(4))\n",
        "\n",
        "\n",
        "# Refactoring\n",
        "def solution(num):\n",
        "    if num % 2 == 0:\n",
        "        return 'Even'\n",
        "    return 'Odd'\n",
        "print(solution(5))"
      ],
      "metadata": {
        "colab": {
          "base_uri": "https://localhost:8080/"
        },
        "id": "T6l3WhBc-40x",
        "outputId": "79d28d77-a2ae-457c-86a5-5e64ed808011"
      },
      "execution_count": null,
      "outputs": [
        {
          "output_type": "stream",
          "name": "stdout",
          "text": [
            "Odd\n"
          ]
        }
      ]
    },
    {
      "cell_type": "code",
      "source": [
        "# LV.1 x만큼 간격이 있는 n개의 숫자\n",
        "# def solution(x, n):\n",
        "#     if x >= 0:\n",
        "#         max_len = x*n+1\n",
        "#     else:\n",
        "#         max_len = x*n-1\n",
        "#     return [i for i in range(x, max_len, x)]\n",
        "\n",
        "# print(solution(4, 3))\n",
        "\n",
        "# Refactoring (중요 i for i in range() 문에서 앞에 i값에 어떻게 연산하는가에 따라 range를 기깔나게 쓸 수 있음)\n",
        "def solution(x, n):\n",
        "    return [i*x+x for i in range(n)]\n",
        "\n",
        "print(solution(4, 3))\n"
      ],
      "metadata": {
        "colab": {
          "base_uri": "https://localhost:8080/"
        },
        "id": "5umE_MxY__r4",
        "outputId": "a07c31b1-419a-4d22-892f-555e24f33c1b"
      },
      "execution_count": null,
      "outputs": [
        {
          "output_type": "stream",
          "name": "stdout",
          "text": [
            "[4, 8, 12]\n"
          ]
        }
      ]
    },
    {
      "cell_type": "code",
      "source": [
        "# LV.1 자연수 뒤집어 배열로 만들기\n",
        "# 자연수 n을 뒤집어 각 자리 숫자를 원소로 가지는 배열 형태로 리턴해주세요.\n",
        "# 예를들어 n이 12345이면 [5,4,3,2,1]을 리턴합니다.\n",
        "\n",
        "def solution(n):\n",
        "    answer = list(map(int, list(str(n))))\n",
        "    answer.reverse()\n",
        "    return answer\n",
        "print(solution(12345))\n",
        "\n",
        "# Refactoring (이것보단 위 방식으로 익히고 외우자 일단)\n",
        "# def solution(n):\n",
        "#     return list(map(int, reversed(str(n))))\n",
        "# print(solution(12345))\n"
      ],
      "metadata": {
        "colab": {
          "base_uri": "https://localhost:8080/"
        },
        "id": "blFd2dCBDlRV",
        "outputId": "4e75b22a-8d54-4b21-bd71-89475a67ac68"
      },
      "execution_count": null,
      "outputs": [
        {
          "output_type": "stream",
          "name": "stdout",
          "text": [
            "[5, 4, 3, 2, 1]\n"
          ]
        }
      ]
    },
    {
      "cell_type": "code",
      "source": [
        "# LV.1 문자열 내 p와 y의 개수\n",
        "# 대문자와 소문자가 섞여있는 문자열 s\n",
        "# s에 'p'의 개수와 'y'의 개수를 비교해 같으면 True, 다르면 False를 return\n",
        "# 하나도 없는 경우는 항상 True를 return\n",
        "\n",
        "#  s로 받은 문자열의 길이만큼 해당 배열 쪼개서 i로 찾아봄 그리고 그안에서 조건문으로 개수를 구해 비교하는거임\n",
        "def solution(s):\n",
        "    p = 0\n",
        "    y = 0\n",
        "    for i in s:\n",
        "        if i == \"p\" or i == \"P\":\n",
        "            p += 1\n",
        "        if i == \"y\" or i == \"Y\":\n",
        "            y += 1\n",
        "    if p == y:\n",
        "        return \"True\"\n",
        "    return \"False\"\n",
        "print(solution(\"ppPooyY\"))\n",
        "\n",
        "# Refactoring\n",
        "# lower() 소문자로 변환 시켜버린뒤 일치하는 문자를 count 집계함수로 수를 샘\n",
        "def numPY(s):\n",
        "    return s.lower().count('p') == s.lower().count('y')\n",
        "print( numPY(\"pPoooY\") )\n"
      ],
      "metadata": {
        "colab": {
          "base_uri": "https://localhost:8080/"
        },
        "id": "PopoqgzdOx74",
        "outputId": "6b00bd80-67c8-4106-964f-5a2cddcde2ba"
      },
      "execution_count": null,
      "outputs": [
        {
          "output_type": "stream",
          "name": "stdout",
          "text": [
            "False\n",
            "False\n"
          ]
        }
      ]
    },
    {
      "cell_type": "code",
      "source": [
        "# LV.1 정수 제곱근 판별\n",
        "# n이 양의 정수 x의 제곱이라면 x+1의 제곱을 리턴\n",
        "# 아니라면 -1을 리턴\n",
        "\n",
        "# ###### 제곱근 x**(1/2) => 이런건 기본적으로 외우기 ######\n",
        "\n",
        "def solution(n):\n",
        "    x = int(n**(1/2))\n",
        "    if n == x*x:\n",
        "      return (x+1)*(x+1)\n",
        "    return -1\n",
        "print(solution(121))"
      ],
      "metadata": {
        "colab": {
          "base_uri": "https://localhost:8080/"
        },
        "id": "B4pktUrZSOR3",
        "outputId": "f47c3056-57d3-43fe-9cbb-5e3a8fc6e55c"
      },
      "execution_count": null,
      "outputs": [
        {
          "output_type": "stream",
          "name": "stdout",
          "text": [
            "144\n"
          ]
        }
      ]
    },
    {
      "cell_type": "code",
      "source": [
        "# LV.1 문자열을 정수로 바꾸기\n",
        "# str이 \"1234\"이면 1234를 반환하고, \"-1234\"이면 -1234를 반환\n",
        "# str은 부호(+,-)와 숫자로만 구성\n",
        "\n",
        "def solution(s):\n",
        "    return int(s)\n",
        "print(solution(\"-1234\"));\n"
      ],
      "metadata": {
        "colab": {
          "base_uri": "https://localhost:8080/"
        },
        "id": "4qK5tguZT2jp",
        "outputId": "747b17de-49f2-45b4-96e5-7e8e8693f710"
      },
      "execution_count": null,
      "outputs": [
        {
          "output_type": "stream",
          "name": "stdout",
          "text": [
            "-1234\n"
          ]
        }
      ]
    },
    {
      "cell_type": "code",
      "source": [
        "# LV.1 정수 내림차순으로 배치하기\n",
        "\n",
        "# ##### 가장 중요한 sort(reverse=True or False) #####\n",
        "# ##### 배열 합치는 함수 join   ######\n",
        "# True시 내림차순 False나 빈칸인 기본값은 오름차순\n",
        "# 왜인진 모르겠으나 리스트로 변환한 값뒤에 바로 sort는 안되고 따로 변수에 지정한 뒤 sort()정렬 시킨다\n",
        "# ''.join(list)) #data => 배열을 다음과 같이 합칠 수 있다.\n",
        "# #####                                         #####\n",
        "\n",
        "def solution(n):\n",
        "    answer = list(str(n))\n",
        "    answer.sort(reverse=True)\n",
        "    return int(''.join(answer))\n",
        "print(solution(118372))\n"
      ],
      "metadata": {
        "colab": {
          "base_uri": "https://localhost:8080/"
        },
        "id": "wLcM9qTwXeZY",
        "outputId": "17995bd8-2b9b-422f-cbde-d53480ed3c0d"
      },
      "execution_count": null,
      "outputs": [
        {
          "output_type": "stream",
          "name": "stdout",
          "text": [
            "873211\n"
          ]
        }
      ]
    },
    {
      "cell_type": "code",
      "source": [
        "# LV.1 하샤드 수\n",
        "# 하샤드 수이려면 x의 자릿수의 합으로 x가 나누어져\n",
        "# 18의 자릿수 합은 1+8=9이고, 18은 9로 나누어 떨어지므로 18은 하샤드 수\n",
        "\n",
        "\n",
        "def solution(x):\n",
        "    answer = list(map(int, list(str(x))))\n",
        "    return x % sum(answer) == 0\n",
        "print(solution(13))\n",
        "\n",
        "# Refactoring\n",
        "# def solution(x):\n",
        "#     return x % sum(list(map(int, list(str(x))))) == 0\n",
        "# print(solution(13))"
      ],
      "metadata": {
        "colab": {
          "base_uri": "https://localhost:8080/"
        },
        "id": "ZxQh9WlLiIIy",
        "outputId": "6c6f57e7-42ea-4dd6-9166-db5e6e1faebb"
      },
      "execution_count": null,
      "outputs": [
        {
          "output_type": "stream",
          "name": "stdout",
          "text": [
            "False\n"
          ]
        }
      ]
    },
    {
      "cell_type": "code",
      "source": [
        "# LV.1 두 정수 사이의 합\n",
        "#  a, b가 주어졌을 때 a와 b 사이에 속한 모든 정수의 합을 리턴\n",
        "#  a = 3, b = 5인 경우, 3 + 4 + 5 = 12\n",
        "\n",
        "# def solution(a, b):\n",
        "#     answer = 0\n",
        "#     if a > b:\n",
        "#         for i in range(b, a+1):\n",
        "#             answer += i\n",
        "\n",
        "#     else:\n",
        "#       for i in range(a, b+1):\n",
        "#           answer += i\n",
        "\n",
        "#     return answer\n",
        "# print(solution(-1,3))\n",
        "\n",
        "\n",
        "# Refactoring\n",
        "# a, b = b, a (a와 b의 위치 바꿈)\n",
        "def adder(a, b):\n",
        "    if a > b:\n",
        "        a, b = b, a\n",
        "    return sum(range(a, b + 1))\n",
        "print( adder(3, 5))\n",
        "\n",
        "# #####   절대값 함수 abs   #####\n",
        "def adder(a, b):\n",
        "    return (abs(a-b)+1)*(a+b)//2\n",
        "print( adder(3, 5))\n",
        "\n",
        "\n",
        "def adder(a, b):\n",
        "    return sum(range(min(a, b), max(a, b)+1))\n",
        "print( adder(3, 5))"
      ],
      "metadata": {
        "colab": {
          "base_uri": "https://localhost:8080/"
        },
        "id": "zzFiBzOGkrD0",
        "outputId": "26c8f806-7a17-44e9-a113-5fe7f1402753"
      },
      "execution_count": null,
      "outputs": [
        {
          "output_type": "stream",
          "name": "stdout",
          "text": [
            "12\n",
            "12\n",
            "12\n"
          ]
        }
      ]
    },
    {
      "cell_type": "code",
      "source": [
        "# LV.1 콜라츠 추측\n",
        "# 1-1. 입력된 수가 짝수라면 2로 나눕니다.\n",
        "# 1-2. 입력된 수가 홀수라면 3을 곱하고 1을 더합니다.\n",
        "# 2. 결과로 나온 수에 같은 작업을 1이 될 때까지 반복합니다.\n",
        "\n",
        "# 재귀함수로 풀 방법있을거 같은데...\n",
        "\n",
        "# while cnt < 500:\n",
        "\n",
        "def solution(num):\n",
        "    cnt = 0\n",
        "    while num >= 1:\n",
        "      if num == 1:\n",
        "          cnt += 0\n",
        "      if num % 2 == 1:\n",
        "          num = num * 3 + 1\n",
        "          cnt += 1\n",
        "      else:\n",
        "          num = num / 2\n",
        "          cnt += 1\n",
        "      if cnt == 500:\n",
        "          cnt = -1\n",
        "          break\n",
        "    return cnt\n",
        "print(solution(626331))"
      ],
      "metadata": {
        "colab": {
          "base_uri": "https://localhost:8080/"
        },
        "id": "zbZPcbJleAIB",
        "outputId": "02b26d5f-ed0f-48ce-ea8e-e7c49044876c"
      },
      "execution_count": null,
      "outputs": [
        {
          "output_type": "stream",
          "name": "stdout",
          "text": [
            "-1\n"
          ]
        }
      ]
    },
    {
      "cell_type": "code",
      "source": [
        "# LV.1 서울에서 김서방 찾기\n",
        "#  element중 \"Kim\"의 위치 x를 찾아, \"김서방은 x에 있다\"는 String을 반환\n",
        "\n",
        "def solution(seoul):\n",
        "  for x in range(0, len(seoul)):\n",
        "    if seoul[x] == \"Kim\":\n",
        "      break\n",
        "  return \"김서방은 \" +str(x)+ \"에 있다.\"\n",
        "print(solution([\"Jane\", \"Kim\"]))\n",
        "\n",
        "\n",
        "# Refactoring\n",
        "# def findKim(seoul):\n",
        "#     return \"김서방은 {}에 있다\".format(seoul.index('Kim'))\n",
        "\n",
        "#   #####  값의 위치를 찾는 index함수   #####\n",
        "#   index(value, start, end)\n",
        "\n",
        "a = [11, 10, 12, 13, 51, 321, 235, 123, 10]\n",
        "print(\"인덱스 위치 찾기 : \" + str(a.index(10))) # 인덱스 최소값이 출력됨\n",
        "\n",
        "\n",
        "\n",
        "#   #####  포메팅(format 함수)  #####\n",
        "# ex\n",
        "# a=2, b=3일 때,\n",
        "# s= '구구단 {0} X {1} = {2}'.format(a, b, a*b)\n",
        "# format안에 있는게 인덱스로 {}안에 들어감\n",
        "# 인덱스 미 입력시에는 자동으로 순서대로 들어감\n",
        "# {{}} => {}만 나옴  즉, 중괄호 안에 값을 출력 하려면 {{{}}} => 이와같이 작성\n",
        "# 추가 내용 .format 함수로 문자열 정렬하기\n",
        "# 정렬\n",
        "s9 = 'this is {0:<10} | done {1:<5} |'.format('left', 'a')\n",
        "print(s9)\n",
        "s10 = 'this is {0:>10} | done {1:>5} |'.format('right', 'a')\n",
        "print(s10)\n",
        "s11 = 'this is {0:^10} | done {1:^5} |'.format('center', 'a')\n",
        "print(s11)\n",
        "# 자리수와 소수점 표현\n",
        "s15 = '정수 3자리 : {0:03d}, {1:03d}'.format(12345, 12)\n",
        "print(s15)\n",
        "s16 = '아래 2자리 : {0:0.2f}, 아래5자리 : {1:0.5f}'.format(123.1234567, 3.14)\n",
        "print(s16)"
      ],
      "metadata": {
        "colab": {
          "base_uri": "https://localhost:8080/"
        },
        "id": "dKuiMNTWiXeo",
        "outputId": "f9151941-a12d-4528-99dc-950459d28d7e"
      },
      "execution_count": null,
      "outputs": [
        {
          "output_type": "stream",
          "name": "stdout",
          "text": [
            "김서방은 1에 있다.\n",
            "인덱스 위치 찾기 : 1\n",
            "this is left       | done a     |\n",
            "this is      right | done     a |\n",
            "this is   center   | done   a   |\n",
            "정수 3자리 : 12345, 012\n",
            "아래 2자리 : 123.12, 아래5자리 : 3.14000\n"
          ]
        }
      ]
    },
    {
      "cell_type": "code",
      "source": [
        "# LV.1 나누어 떨어지는 숫자 배열\n",
        "\n",
        "\n",
        "# def solution(arr, divisor):\n",
        "#   a = []\n",
        "#   for i in range(0, len(arr)):\n",
        "#     if arr[i] % divisor == 0:\n",
        "#       a.append(arr[i])\n",
        "#   if a == []:\n",
        "#     a = [-1]\n",
        "#   a.sort()\n",
        "#   return a\n",
        "# print(solution([3,9,7,2], 1))\n",
        "\n",
        "# Refactoring\n",
        "def solution(arr, divisor):\n",
        "    arr = [x for x in arr if x % divisor == 0];\n",
        "    arr.sort();\n",
        "    return arr if len(arr) != 0 else [-1];\n",
        "print(solution([3,9,7,2], 1))"
      ],
      "metadata": {
        "colab": {
          "base_uri": "https://localhost:8080/"
        },
        "id": "RxXDlx3gwGLA",
        "outputId": "43e164a1-b630-4656-b038-5f1dc4a803fd"
      },
      "execution_count": null,
      "outputs": [
        {
          "output_type": "stream",
          "name": "stdout",
          "text": [
            "[2, 3, 7, 9]\n"
          ]
        }
      ]
    },
    {
      "cell_type": "code",
      "source": [
        "# LV.1 음양 더하기\n",
        "# 정수들의 절댓값을 차례대로 담은 정수 배열 absolutes와 이 정수들의 부호를 차례대로 담은 불리언 배열 signs\n",
        "# 실제 정수들의 합을 구하여 리턴\n",
        "\n",
        "def solution(absolutes, signs):\n",
        "    arr = []\n",
        "    for x in range(0, len(absolutes)):\n",
        "        if signs[x] == False:\n",
        "            arr.append(-absolutes[x])\n",
        "        else:\n",
        "            arr.append(absolutes[x])\n",
        "    return sum(arr)\n",
        "print(solution([4,7,12], [True,False,True]))\n",
        "\n",
        "# Refactoring"
      ],
      "metadata": {
        "colab": {
          "base_uri": "https://localhost:8080/"
        },
        "id": "XwuHw24I0UaH",
        "outputId": "d0fdcb64-8eec-45d2-8cd4-39fc9ca3fb35"
      },
      "execution_count": null,
      "outputs": [
        {
          "output_type": "stream",
          "name": "stdout",
          "text": [
            "9\n"
          ]
        }
      ]
    },
    {
      "cell_type": "code",
      "source": [
        "# LV.1 핸드폰 번호 가리기\n",
        "# 전화번호의 뒷 4자리를 제외한 나머지 숫자를 전부 *으로 가린 문자열을 리턴\n",
        "\n",
        "# 리스트 길이-4만큼 *을 더한다?\n",
        "# 리스트로 변환후 뒤에서 4번째 까지 더한다\n",
        "\n",
        "def solution(phone_number):\n",
        "    arr = list(phone_number)\n",
        "    for i in range(len(arr)-4):\n",
        "        arr[i] = '*'\n",
        "    return ''.join(arr)\n",
        "print(solution(\"01033334444\"))\n",
        "\n",
        "## 다른 문제 풀이\n",
        "def hide_numbers(s):\n",
        "    return ('*'*(len(s)-4)) + s[-4:]\n",
        "print(\"결과 : \" + hide_numbers('01033334444'));"
      ],
      "metadata": {
        "colab": {
          "base_uri": "https://localhost:8080/"
        },
        "id": "7-jLNiKO20g1",
        "outputId": "79271959-7fca-4123-be9e-441e54fe907a"
      },
      "execution_count": null,
      "outputs": [
        {
          "output_type": "stream",
          "name": "stdout",
          "text": [
            "*******4444\n",
            "결과 : *******4444\n"
          ]
        }
      ]
    },
    {
      "cell_type": "code",
      "source": [
        "# LV.1 없는 숫자 더하기\n",
        "# 정수 배열 numbers에 0~9 일부가 들어가 있음\n",
        "# 없는 정수들의 합을 리턴\n",
        "\n",
        "# 0~9까지의 합인 45 에서 numbers에 있는 수의 합만 빼면 되는거였음,,,\n",
        "\n",
        "def solution(numbers):\n",
        "    return 45 - sum(numbers)\n",
        "print(solution([5,8,4,0,6,7,9]))"
      ],
      "metadata": {
        "colab": {
          "base_uri": "https://localhost:8080/"
        },
        "id": "Zc1zmkEm-caW",
        "outputId": "3a14d238-bc73-482a-8d69-aff83aba93b3"
      },
      "execution_count": null,
      "outputs": [
        {
          "output_type": "stream",
          "name": "stdout",
          "text": [
            "6\n"
          ]
        }
      ]
    },
    {
      "cell_type": "code",
      "source": [
        "# LV.1 없는 숫자 더하기\n",
        "# min함수로 제거 렝스가 1이면 -1로 뱉음\n",
        "\n",
        "# 작은그림부터 넓히는 방법 시도해보기\n",
        "#   #####   pop, insert   #####\n",
        "def solution(arr):\n",
        "    answer = 0\n",
        "    if len(arr) == 1:\n",
        "        return [-1]\n",
        "    arr.pop(arr.index(min(arr)))\n",
        "    return arr\n",
        "print(solution([4,3,2,1]))\n",
        "\n",
        "# stack\n",
        "st = [2,3,1,4]\n",
        "st.pop()  # 배열 맨 뒤 값 제거 (기본값은 맨 뒤 괄호안에 index를 지정하여 제거 가능)\n",
        "print(st)\n",
        "st.insert(0, 8) # insert(index, value)\n",
        "print(st)\n",
        "st.pop(0)\n",
        "print(st)"
      ],
      "metadata": {
        "colab": {
          "base_uri": "https://localhost:8080/"
        },
        "id": "j3LwIsXkHJ6z",
        "outputId": "fa4ee35b-b789-4fe6-b53f-b331c087b4b6"
      },
      "execution_count": null,
      "outputs": [
        {
          "output_type": "stream",
          "name": "stdout",
          "text": [
            "[4, 3, 2]\n",
            "[2, 3, 1]\n",
            "[8, 2, 3, 1]\n",
            "[2, 3, 1]\n"
          ]
        }
      ]
    },
    {
      "cell_type": "code",
      "source": [
        "# LV.1 가운데 글자 가져오기\n",
        "# 단어 s의 가운데 글자를 반환\n",
        "# 길이가 짝수라면 가운데 두글자를 반환\n",
        "\n",
        "# 1.인덱스로 변환 2.인덱스길이 % 2 가 홀수면 (길이/2+1)인덱스 리턴, 짝수면 (길이/2),(길이/2-1) ''.join(배열) 리턴\n",
        "def solution(s):\n",
        "    arr = list(s)\n",
        "    if len(arr) % 2 == 1:\n",
        "        return arr[int(len(arr)/2)]\n",
        "    answer = arr[int(len(arr)/2) - 1] + arr[int(len(arr)/2)]\n",
        "    return answer\n",
        "print(solution(\"qwer\"))\n",
        "\n",
        "# 다른풀이\n",
        "def string_middle(str):\n",
        "    a = len(str)\n",
        "    if a % 2 == 0 :\n",
        "        a = (a-2) / 2\n",
        "    else :\n",
        "        a = (a-1) / 2\n",
        "    return str[int(a) : -int(a)]\n",
        "# 아래는 테스트로 출력해 보기 위한 코드입니다.\n",
        "print(string_middle(\"qwer\"))"
      ],
      "metadata": {
        "colab": {
          "base_uri": "https://localhost:8080/"
        },
        "id": "uO6s-0QSHwXj",
        "outputId": "f2210814-b85e-4467-bb3e-b7a08a6f5313"
      },
      "execution_count": null,
      "outputs": [
        {
          "output_type": "stream",
          "name": "stdout",
          "text": [
            "we\n",
            "we\n"
          ]
        }
      ]
    },
    {
      "cell_type": "code",
      "source": [
        "# LV.1 수박수박수박수박수박수?\n",
        "\n",
        "# n이 4이면 \"수박수박\"을 리턴\n",
        "# 3이라면 \"수박수\"를 리턴\n",
        "\n",
        "#\n",
        "\n",
        "def solution(n):\n",
        "    if n%2 == 1:\n",
        "        return int(n/2)*'수박' + '수'\n",
        "    return int(n/2)*'수박'\n",
        "print(solution(7))\n",
        "\n",
        "# Refactoring\n",
        "def water_melon(n):\n",
        "    return \"수박\" * (n//2) + \"수\" * (n%2)\n",
        "print(\"n이 3인 경우: \" + water_melon(3));\n",
        "print(\"n이 4인 경우: \" + water_melon(4));"
      ],
      "metadata": {
        "colab": {
          "base_uri": "https://localhost:8080/"
        },
        "id": "ZJNTmtrKkzrz",
        "outputId": "20df6074-2208-46d6-c5ae-4b18a6e0b2d7"
      },
      "execution_count": null,
      "outputs": [
        {
          "output_type": "stream",
          "name": "stdout",
          "text": [
            "수박수박수박수\n",
            "n이 3인 경우: 수박수\n",
            "n이 4인 경우: 수박수박\n"
          ]
        }
      ]
    },
    {
      "cell_type": "code",
      "source": [
        "# LV.1 내적\n",
        "\n",
        "# 1차원 정수 배열 a, b가 매개변수\n",
        "# a와 b의 내적을 return\n",
        "# 내적은 a[0]*b[0] + a[1]*b[1] + ... + a[n-1]*b[n-1] 입니다. (n은 a, b의 길이)\n",
        "\n",
        "# 둘중하나의 길이만큼 for문을 통해 각 배열끼리 곱한거 sum\n",
        "\n",
        "def solution(a, b):\n",
        "    answer = 0\n",
        "    for i in range(0, len(a)):\n",
        "        answer += a[i]*b[i]\n",
        "    return answer\n",
        "print(solution([1, 2, 3, 4], [-3, -1, 0, 2]))\n",
        "\n",
        "\n",
        "def solution(a, b):\n",
        "    answer = 0\n",
        "    arr = []\n",
        "    for i in range(0, len(a)):\n",
        "        arr.insert(i, a[i]*b[i])\n",
        "    return sum(arr)\n",
        "print(solution([1, 2, 3, 4], [-3, -1, 0, 2]))\n"
      ],
      "metadata": {
        "colab": {
          "base_uri": "https://localhost:8080/"
        },
        "id": "dDUGZcxEmOIP",
        "outputId": "b50a90ba-3bc3-4c97-ab88-29b9d129162c"
      },
      "execution_count": null,
      "outputs": [
        {
          "output_type": "stream",
          "name": "stdout",
          "text": [
            "3\n",
            "3\n"
          ]
        }
      ]
    },
    {
      "cell_type": "code",
      "source": [
        "# 실행 대기 큐(Queue)에서 대기중인 프로세스 하나를 꺼냅니다.\n",
        "# 큐에 대기중인 프로세스 중 우선순위가 더 높은 프로세스가 있다면 방금 꺼낸 프로세스를 다시 큐에 넣습니다.\n",
        "# 만약 그런 프로세스가 없다면 방금 꺼낸 프로세스를 실행합니다.\n",
        "# 한 번 실행한 프로세스는 다시 큐에 넣지 않고 그대로 종료됩니다.\n",
        "\n",
        "# 맨 앞 인덱스 값이 최댓 값보다 낮을 때 맨 뒤로 이동\n",
        "# 반대의 경우 삭제\n",
        "\n",
        "# 1. 가상의 location 배열을 만들어 p_q의 인덱스 이동시 함께 이동\n",
        "# 2. location의 값을 변동 시킴\n",
        "\n",
        "# 1\n",
        "# from collections import deque\n",
        "# def solution(priorities, location):\n",
        "#     p_q = deque(priorities)\n",
        "#     l_idx = deque([i for i in range(len(p_q))])\n",
        "#     answer, cnt = 0, 0\n",
        "#     while p_q:\n",
        "#         if p_q[0] < max(p_q):\n",
        "#             p_q.append(p_q.popleft())\n",
        "#             l_idx.append(l_idx.popleft())\n",
        "#         else:\n",
        "#           cnt += 1\n",
        "#           if l_idx[0] == location:\n",
        "#               answer = cnt\n",
        "#               break\n",
        "#           p_q.popleft()\n",
        "#           l_idx.popleft()\n",
        "#     return answer\n",
        "# print(solution([1, 1, 9, 1, 1, 1], 1))\n",
        "\n",
        "# 2\n",
        "from collections import deque\n",
        "def solution(priorities, location):\n",
        "    p_q = deque(priorities)\n",
        "    cnt, ans = 0, 0\n",
        "\n",
        "    while p_q:\n",
        "\n",
        "        if p_q[0] < max(p_q):\n",
        "            p_q.append(p_q.popleft())\n",
        "            location -= 1\n",
        "            if location < 0:\n",
        "                location = len(p_q) - 1\n",
        "        else:\n",
        "            cnt += 1\n",
        "            if location == 0:\n",
        "                ans = cnt\n",
        "            p_q.popleft()\n",
        "            location -= 1\n",
        "    return ans\n",
        "print(solution([2, 1, 3, 2], 2))\n"
      ],
      "metadata": {
        "colab": {
          "base_uri": "https://localhost:8080/"
        },
        "id": "BAGIjLpep1JE",
        "outputId": "8d1e029b-6ad2-44cd-a130-73f6cb7c1cb7"
      },
      "execution_count": null,
      "outputs": [
        {
          "output_type": "stream",
          "name": "stdout",
          "text": [
            "1\n"
          ]
        }
      ]
    },
    {
      "cell_type": "code",
      "source": [
        "# LV.1 문자열 내림차순으로 배치하기\n",
        "\n",
        "# 1. 문자열 리스트로 변환 후 정렬\n",
        "# 2. deque에 담아 대문자 판별후 append시킴\n",
        "# 3. 소문자면 break 탈출 후 문자열로 변환하여 리턴\n",
        "\n",
        "from collections import deque\n",
        "\n",
        "def solution(s):\n",
        "    s = list(s)\n",
        "    s.sort(reverse = True)\n",
        "    a_q = deque(s)\n",
        "    print(a_q)\n",
        "\n",
        "    for i in range(len(s)):\n",
        "        if a_q[0].isupper():\n",
        "            a_q.append(a_q.popleft())\n",
        "        else:\n",
        "            break\n",
        "    return ''.join(a_q)"
      ],
      "metadata": {
        "colab": {
          "base_uri": "https://localhost:8080/"
        },
        "id": "bqDbdmOpM7df",
        "outputId": "ed5f213f-4b50-41b7-9ca7-077de232af43"
      },
      "execution_count": null,
      "outputs": [
        {
          "output_type": "stream",
          "name": "stdout",
          "text": [
            "bcdefgZ\n"
          ]
        }
      ]
    },
    {
      "cell_type": "code",
      "source": [
        "# LV.1 행렬의 덧셈\n",
        "\n",
        "def solution(arr1, arr2):\n",
        "\n",
        "    ans = []\n",
        "\n",
        "    for i in range(len(arr1)):\n",
        "        ans.append([])      # 일차배열 만큼 ans에 일차원 배열을 추가시킴 (이차원 배열을 담기 위한 일차원 배열의 틀을 만들어주는 느낌? 위에 새로 정의하듯이 이차원 배열을 만들기 위해 새로 정의)\n",
        "        for j in range(len(arr1[i])):\n",
        "            ans[i].append(arr1[i][j] + arr2[i][j])\n",
        "    return ans\n",
        "\n",
        "\n",
        "print(solution([[1,2], [3, 4]], [[1,2], [2,3]]))"
      ],
      "metadata": {
        "colab": {
          "base_uri": "https://localhost:8080/"
        },
        "id": "KcVUKiK7SFLZ",
        "outputId": "cd65f351-e421-4d1b-8c60-4d3739718023"
      },
      "execution_count": null,
      "outputs": [
        {
          "output_type": "stream",
          "name": "stdout",
          "text": [
            "[[2, 4], [5, 7]]\n"
          ]
        }
      ]
    },
    {
      "cell_type": "code",
      "source": [
        "# 직사각형 별찍기\n",
        "\n",
        "# 참고할 블로그 https://velog.io/@leejongeun2/Python-%EB%B3%84%EC%B0%8D%EA%B8%B0-%EC%B4%9D%EC%A0%95%EB%A6%AC9%EA%B0%9C\n",
        "\n",
        "\n",
        "# strip() 함수 : strip([chars]) : 인자로 전달된 문자를 String의 왼쪽과 오른쪽에서 제거합니다.\n",
        "# rstrip(), lstrip()으로 좌우 선정해서 제거도 가능하다\n",
        "\n",
        "a, b = map(int, input().strip().split(' '))\n",
        "\n",
        "star  = '*'\n",
        "\n",
        "for i in range(1, b+1):\n",
        "    print(a * star)"
      ],
      "metadata": {
        "colab": {
          "base_uri": "https://localhost:8080/"
        },
        "id": "nHEn863_ctAa",
        "outputId": "67df41e1-98f9-4d31-e96c-14f8d9d5694e"
      },
      "execution_count": null,
      "outputs": [
        {
          "output_type": "stream",
          "name": "stdout",
          "text": [
            " 5 3\n",
            "*****\n",
            "*****\n",
            "*****\n"
          ]
        }
      ]
    },
    {
      "cell_type": "code",
      "source": [
        "\n",
        "def solution(n, m):\n",
        "    gcd = lambda a,b : b if not a%b else gcd(b, a%b)            # a%b가 0 이면 b를 리턴 아니면 재귀함수로 (b, a%b)로 반복해서 시킴\n",
        "    print(gcd(n, m))\n",
        "    lcm = lambda a,b : a*b//gcd(a,b)\n",
        "    return [gcd(n, m), lcm(n, m)]\n",
        "\n",
        "print(solution(7, 5))"
      ],
      "metadata": {
        "colab": {
          "base_uri": "https://localhost:8080/"
        },
        "id": "4uzRUFBRj54z",
        "outputId": "ca64c615-0136-4789-9d1f-3d01e9892d31"
      },
      "execution_count": null,
      "outputs": [
        {
          "output_type": "stream",
          "name": "stdout",
          "text": [
            "1\n",
            "[1, 35]\n"
          ]
        }
      ]
    },
    {
      "cell_type": "code",
      "source": [
        "from itertools import permutations, combinations\n",
        "\n",
        "M, N = map(int, input().strip().split(' '))\n",
        "data = []\n",
        "for i in range(1, M+1):\n",
        "    data.append(i)\n",
        "result = list(permutations(data, N))\n",
        "\n",
        "for j in range(len(result)):\n",
        "    print(result[j])\n",
        "    # return result[j]\n",
        "\n",
        "# print(solution(4, 2))\n"
      ],
      "metadata": {
        "colab": {
          "base_uri": "https://localhost:8080/"
        },
        "id": "jU3dEXUssiIy",
        "outputId": "4c253d21-b95f-434a-ef17-0cd011b57c65"
      },
      "execution_count": null,
      "outputs": [
        {
          "output_type": "stream",
          "name": "stdout",
          "text": [
            "4 2\n",
            "(1, 2)\n",
            "(1, 3)\n",
            "(1, 4)\n",
            "(2, 1)\n",
            "(2, 3)\n",
            "(2, 4)\n",
            "(3, 1)\n",
            "(3, 2)\n",
            "(3, 4)\n",
            "(4, 1)\n",
            "(4, 2)\n",
            "(4, 3)\n"
          ]
        }
      ]
    },
    {
      "cell_type": "code",
      "source": [
        "M, N = map(int, input().strip().split(' '))\n",
        "# alist = [i for i in range(M)]\n",
        "# V = len(alist)\n",
        "\n",
        "st = []\n",
        "# 재귀함수\n",
        "def dfs(M, N):\n",
        "\n",
        "    if len(st) == N:\n",
        "        print(st)\n",
        "        return  # 마지막으로 실행된 함수 종료 이제 그 위로 올라감\n",
        "\n",
        "    for i in range(1, M+1):\n",
        "\n",
        "        if i not in st:\n",
        "            st.append(i)\n",
        "            dfs(M, N)\n",
        "            # print와 return 이후 여기로 와서 진행됨\n",
        "            st.pop()\n",
        "dfs(M, N)"
      ],
      "metadata": {
        "colab": {
          "base_uri": "https://localhost:8080/"
        },
        "id": "6l6xLz371wTI",
        "outputId": "a80c9b1c-76bf-4060-84e7-42da5255338e"
      },
      "execution_count": null,
      "outputs": [
        {
          "output_type": "stream",
          "name": "stdout",
          "text": [
            "4 2\n",
            "[1, 2]\n",
            "[1, 3]\n",
            "[1, 4]\n",
            "[2, 1]\n",
            "[2, 3]\n",
            "[2, 4]\n",
            "[3, 1]\n",
            "[3, 2]\n",
            "[3, 4]\n",
            "[4, 1]\n",
            "[4, 2]\n",
            "[4, 3]\n"
          ]
        }
      ]
    },
    {
      "cell_type": "code",
      "source": [
        "arr = [1, 2, 3, 4, 5]\n",
        "\n",
        "arr.reverse()\n",
        "\n",
        "print(arr)\n",
        "\n",
        "print(arr[::-1])\n",
        "\n",
        "print(int(len(arr)/ 2))"
      ],
      "metadata": {
        "colab": {
          "base_uri": "https://localhost:8080/"
        },
        "id": "vhdbnYg7AzEQ",
        "outputId": "309e3ee9-06c2-45c0-9fd7-9ac9d680b5a6"
      },
      "execution_count": null,
      "outputs": [
        {
          "output_type": "stream",
          "name": "stdout",
          "text": [
            "[5, 4, 3, 2, 1]\n",
            "[1, 2, 3, 4, 5]\n",
            "2\n"
          ]
        }
      ]
    },
    {
      "cell_type": "code",
      "source": [
        "# LV.1 이상한 문자 만들기\n",
        "# 문자열 s는 한 개 이상의 단어로 구성되어 있습니다. 각 단어는 하나 이상의 공백문자로 구분되어 있습니다. 각 단어의 짝수번째 알파벳은 대문자로, 홀수번째 알파벳은 소문자로 바꾼 문자열을 리턴하는 함수, solution을 완성하세요.\n",
        "\n",
        "#   #####   가장 핵심은 문제 설명에 있는 보기들로 조건들을 자세히 생각할 것     #####\n",
        "\n",
        "#   1. 문자열은 한 개 이상의 단어이며 소문자와 대문자 구분없이 들어올 수 있다.\n",
        "#   2. 각 단어는 하나 이상(여러개의 공백) 공백문자로 구분됨\n",
        "#   3. 홀수 번째는 대문자 짝수번째는 소문자로 바꿔서 리턴 upper(), lower()\n",
        "\n",
        "def solution(s):\n",
        "    a = []\n",
        "    s = s.split(\" \")\n",
        "    print(s)\n",
        "\n",
        "    print(len(s))\n",
        "    for i in range(len(s)):\n",
        "        if s[i] != '':\n",
        "            # a.append(list(s[i])[0].upper())\n",
        "\n",
        "            for j in range(len(s[i])):\n",
        "                if j % 2 == 0:\n",
        "                    a.append(list(s[i])[j].upper())\n",
        "                else:\n",
        "                    a.append(list(s[i])[j].lower())\n",
        "            a.append(' ')\n",
        "        else:\n",
        "            a.append(' ')\n",
        "\n",
        "    a.pop()\n",
        "    return str(''.join(a))\n",
        "print(solution(\"try hello world\"))\n",
        "\n"
      ],
      "metadata": {
        "colab": {
          "base_uri": "https://localhost:8080/"
        },
        "id": "pg4mSlV2geS8",
        "outputId": "bddaf165-c519-451b-f165-8efd09592000"
      },
      "execution_count": null,
      "outputs": [
        {
          "output_type": "stream",
          "name": "stdout",
          "text": [
            "['try', 'hello', 'world']\n",
            "3\n",
            "TrY HeLlO WoRlD\n"
          ]
        }
      ]
    },
    {
      "cell_type": "code",
      "source": [
        "# 조합\n",
        "\n",
        "def comb(arr, r):\n",
        "    # 사용된 원소를 저장할 배열을 만든다.\n",
        "    arr = sorted(arr)\n",
        "    print(arr)\n",
        "    # 변수 없이 반복문 사용 for _ in range\n",
        "    used = [0 for _ in range(len(arr))]\n",
        "\n",
        "    # 선택리스트에 조의 원소를 저장하다가 갯수가 r개가 되면 출력 후 함수를 종료한다.\n",
        "    def generate(chosen):\n",
        "        if len(chosen) == r:\n",
        "            print(chosen)\n",
        "            return\n",
        "\n",
        "    \t# chosen(뽑은 조합 원소)가 없으면 start = 0으로\n",
        "        # 그 외에는 뽑은 조합의 가장 마지막 요소를 값의 인덱스 출력\n",
        "        # arr = [1, 2, 3, 4]\n",
        "        # 예를들어 chosen = [1, 2]를 뽑은 상태라면 start = arr.index(2) 이므로 1이고\n",
        "        # 거기에 1을 더해 최종 : 2\n",
        "        start = arr.index(chosen[-1]) + 1 if chosen else 0\n",
        "        # nxt = 2부터 시작\n",
        "        for nxt in range(start, len(arr)):\n",
        "            # 만약 아직 뽑지 않았고, ~~ 조건이라면\n",
        "            if used[nxt] == 0 and (nxt == 0 or arr[nxt-1] != arr[nxt] or used[nxt-1]):\n",
        "            # if used[nxt] == 0 :\n",
        "                # 다음 요소를 뽑고 방문처리한다.\n",
        "                chosen.append(arr[nxt])\n",
        "                used[nxt] = 1\n",
        "                # 다 뽑았으면 마지막 요소부터 pop하고 방문해제한다.\n",
        "                generate(chosen)\n",
        "                chosen.pop()\n",
        "                used[nxt] = 0\n",
        "    generate([])\n",
        "\n",
        "\n",
        "# print(comb('ABCDE', 2))\n",
        "print(comb([1, 2, 3, 1, 5], 3))\n",
        "\n",
        "# print(comb([-2, 3, 0, 2, -5], 3))\n",
        "\n",
        "\n",
        "\n",
        "# 순열\n",
        "\n",
        "def gen_permutations(arr, n):\n",
        "    result = []\n",
        "\n",
        "    if n == 0:\n",
        "        return [[]]\n",
        "\n",
        "    for i, elem in enumerate(arr):\n",
        "        for P in gen_permutations(arr[:i] + arr[i+1:], n-1):\n",
        "            result += [[elem]+P]\n",
        "\n",
        "    return result\n",
        "\n",
        "print(gen_permutations([0, 1, 2, 3, 4, 5], 3))"
      ],
      "metadata": {
        "colab": {
          "base_uri": "https://localhost:8080/"
        },
        "id": "Ve-bzuXt0_TL",
        "outputId": "0be36ae2-d360-40c1-8d82-aa2a1a7c25be"
      },
      "execution_count": null,
      "outputs": [
        {
          "output_type": "stream",
          "name": "stdout",
          "text": [
            "[1, 1, 2, 3, 5]\n",
            "[1, 1, 2]\n",
            "[1, 1, 3]\n",
            "[1, 1, 5]\n",
            "[1, 2, 3]\n",
            "[1, 2, 5]\n",
            "[1, 3, 5]\n",
            "[2, 3, 5]\n",
            "None\n",
            "[[0, 1, 2], [0, 1, 3], [0, 1, 4], [0, 1, 5], [0, 2, 1], [0, 2, 3], [0, 2, 4], [0, 2, 5], [0, 3, 1], [0, 3, 2], [0, 3, 4], [0, 3, 5], [0, 4, 1], [0, 4, 2], [0, 4, 3], [0, 4, 5], [0, 5, 1], [0, 5, 2], [0, 5, 3], [0, 5, 4], [1, 0, 2], [1, 0, 3], [1, 0, 4], [1, 0, 5], [1, 2, 0], [1, 2, 3], [1, 2, 4], [1, 2, 5], [1, 3, 0], [1, 3, 2], [1, 3, 4], [1, 3, 5], [1, 4, 0], [1, 4, 2], [1, 4, 3], [1, 4, 5], [1, 5, 0], [1, 5, 2], [1, 5, 3], [1, 5, 4], [2, 0, 1], [2, 0, 3], [2, 0, 4], [2, 0, 5], [2, 1, 0], [2, 1, 3], [2, 1, 4], [2, 1, 5], [2, 3, 0], [2, 3, 1], [2, 3, 4], [2, 3, 5], [2, 4, 0], [2, 4, 1], [2, 4, 3], [2, 4, 5], [2, 5, 0], [2, 5, 1], [2, 5, 3], [2, 5, 4], [3, 0, 1], [3, 0, 2], [3, 0, 4], [3, 0, 5], [3, 1, 0], [3, 1, 2], [3, 1, 4], [3, 1, 5], [3, 2, 0], [3, 2, 1], [3, 2, 4], [3, 2, 5], [3, 4, 0], [3, 4, 1], [3, 4, 2], [3, 4, 5], [3, 5, 0], [3, 5, 1], [3, 5, 2], [3, 5, 4], [4, 0, 1], [4, 0, 2], [4, 0, 3], [4, 0, 5], [4, 1, 0], [4, 1, 2], [4, 1, 3], [4, 1, 5], [4, 2, 0], [4, 2, 1], [4, 2, 3], [4, 2, 5], [4, 3, 0], [4, 3, 1], [4, 3, 2], [4, 3, 5], [4, 5, 0], [4, 5, 1], [4, 5, 2], [4, 5, 3], [5, 0, 1], [5, 0, 2], [5, 0, 3], [5, 0, 4], [5, 1, 0], [5, 1, 2], [5, 1, 3], [5, 1, 4], [5, 2, 0], [5, 2, 1], [5, 2, 3], [5, 2, 4], [5, 3, 0], [5, 3, 1], [5, 3, 2], [5, 3, 4], [5, 4, 0], [5, 4, 1], [5, 4, 2], [5, 4, 3]]\n"
          ]
        }
      ]
    },
    {
      "cell_type": "code",
      "source": [
        "l = [1, 2, 3, 4]\n",
        "n = len(l)\n",
        "r = 3\n",
        "answer = []\n",
        "\n",
        "def dfs(idx, list):\n",
        "    if len(list) == r:\n",
        "        answer.append(list[:])\n",
        "        return\n",
        "\n",
        "    for i in range(idx, n):\n",
        "        dfs(i+1,list+[l[i]])\n",
        "\n",
        "dfs(0, [])\n",
        "print(answer)"
      ],
      "metadata": {
        "colab": {
          "base_uri": "https://localhost:8080/"
        },
        "id": "KiV9m3q4d0qg",
        "outputId": "e37d2917-a1d4-4193-c461-ed333bfc3c7a"
      },
      "execution_count": null,
      "outputs": [
        {
          "output_type": "stream",
          "name": "stdout",
          "text": [
            "[[1, 2, 3], [1, 2, 4], [1, 3, 4], [2, 3, 4]]\n"
          ]
        }
      ]
    },
    {
      "cell_type": "code",
      "source": [
        "# 순열(중복제외)\n",
        "N, M = map(int, input().strip().split(' '))\n",
        "\n",
        "alist = [a for a in range(1, N+1)]\n",
        "\n",
        "st = []\n",
        "\n",
        "def dfs():\n",
        "\n",
        "    if len(st) == M:\n",
        "\n",
        "        print(' '.join(map(str, st)))\n",
        "        return\n",
        "\n",
        "\n",
        "    for i in alist:\n",
        "        if i not in st:\n",
        "            st.append(i)\n",
        "            dfs()\n",
        "            st.pop()\n",
        "dfs()"
      ],
      "metadata": {
        "colab": {
          "base_uri": "https://localhost:8080/"
        },
        "id": "P64oM_wH-uQZ",
        "outputId": "4da4c86e-caa9-4a7c-e445-a9673702fa1e"
      },
      "execution_count": null,
      "outputs": [
        {
          "output_type": "stream",
          "name": "stdout",
          "text": [
            "4 2\n",
            "1 2\n",
            "1 3\n",
            "1 4\n",
            "2 1\n",
            "2 3\n",
            "2 4\n",
            "3 1\n",
            "3 2\n",
            "3 4\n",
            "4 1\n",
            "4 2\n",
            "4 3\n"
          ]
        }
      ]
    },
    {
      "cell_type": "code",
      "source": [
        "# 조합 (중복제외)\n",
        "N, M = map(int, input().split(' '))\n",
        "\n",
        "alist = [a for a in range(1, N+1)]\n",
        "\n",
        "st = []\n",
        "start = 0\n",
        "\n",
        "def dfs():\n",
        "    if len(st) == M:\n",
        "        print(' '.join(map(str, st)))\n",
        "        return\n",
        "\n",
        "    if st:\n",
        "        start = st[-1]\n",
        "    else:\n",
        "        start = 0\n",
        "    for i in range(start, N):\n",
        "        if alist[i] not in st:\n",
        "            st.append(alist[i])\n",
        "            dfs()\n",
        "            st.pop()\n",
        "dfs()\n",
        "\n"
      ],
      "metadata": {
        "colab": {
          "base_uri": "https://localhost:8080/"
        },
        "id": "_U-QJbwKC3Y9",
        "outputId": "2125b62d-469d-4b5c-9c39-21ad49508f96"
      },
      "execution_count": null,
      "outputs": [
        {
          "output_type": "stream",
          "name": "stdout",
          "text": [
            "4 2\n",
            "1 2\n",
            "1 3\n",
            "1 4\n",
            "2 3\n",
            "2 4\n",
            "3 4\n"
          ]
        }
      ]
    },
    {
      "cell_type": "code",
      "source": [
        "# 순열 (중복 숫자 포함)\n",
        "\n",
        "N, M = map(int, input().split())\n",
        "\n",
        "alist = [a for a in range(1, N+1)]\n",
        "\n",
        "st = []\n",
        "\n",
        "def dfs():\n",
        "    if len(st) == M:\n",
        "        print(' '.join(map(str, st)))\n",
        "        return\n",
        "\n",
        "    for i in alist:\n",
        "        st.append(i)\n",
        "        dfs()\n",
        "        st.pop()\n",
        "dfs()"
      ],
      "metadata": {
        "colab": {
          "base_uri": "https://localhost:8080/"
        },
        "id": "lLCIMUdlL27S",
        "outputId": "39b15d83-e2d7-4de9-9cfe-1b326b028081"
      },
      "execution_count": null,
      "outputs": [
        {
          "output_type": "stream",
          "name": "stdout",
          "text": [
            "4 2\n",
            "1 1\n",
            "1 2\n",
            "1 3\n",
            "1 4\n",
            "2 1\n",
            "2 2\n",
            "2 3\n",
            "2 4\n",
            "3 1\n",
            "3 2\n",
            "3 3\n",
            "3 4\n",
            "4 1\n",
            "4 2\n",
            "4 3\n",
            "4 4\n"
          ]
        }
      ]
    },
    {
      "cell_type": "code",
      "source": [
        "# 조합 (중복 숫자 포함)\n",
        "\n",
        "# N, M = map(int, input().split())\n",
        "\n",
        "# array = [a for a in range(1, N+1)]\n",
        "\n",
        "# st = []\n",
        "# start = 0\n",
        "\n",
        "# def dfs():\n",
        "#     if len(st) == M:\n",
        "#         print(*st)\n",
        "#         return\n",
        "\n",
        "#     if st:\n",
        "#         start = array.index(st[-1])\n",
        "#     else:\n",
        "#         start = 0\n",
        "\n",
        "#     for i in range(start, N):\n",
        "#         st.append(array[i])\n",
        "#         dfs()\n",
        "#         st.pop()\n",
        "# dfs()\n",
        "\n",
        "\n",
        "# Refactoring\n",
        "N, M = map(int, input().split())\n",
        "\n",
        "array = [a for a in range(1, N+1)]\n",
        "\n",
        "st = []\n",
        "\n",
        "def dfs(start):\n",
        "    if len(st) == M:\n",
        "        print(*st)\n",
        "        return\n",
        "\n",
        "\n",
        "\n",
        "    for i in range(start, N):\n",
        "        st.append(array[i])\n",
        "        dfs(i)\n",
        "        st.pop()\n",
        "dfs(0)"
      ],
      "metadata": {
        "colab": {
          "base_uri": "https://localhost:8080/"
        },
        "id": "Jsuvi-rHM6IZ",
        "outputId": "4bef152c-8e12-4b4d-b4e1-5504df6d601e"
      },
      "execution_count": null,
      "outputs": [
        {
          "output_type": "stream",
          "name": "stdout",
          "text": [
            "4 2\n",
            "1 1\n",
            "1 2\n",
            "1 3\n",
            "1 4\n",
            "2 2\n",
            "2 3\n",
            "2 4\n",
            "3 3\n",
            "3 4\n",
            "4 4\n",
            "4 2\n",
            "1 1\n",
            "1 2\n",
            "1 3\n",
            "1 4\n",
            "2 2\n",
            "2 3\n",
            "2 4\n",
            "3 3\n",
            "3 4\n",
            "4 4\n"
          ]
        }
      ]
    },
    {
      "cell_type": "code",
      "source": [
        "# N과 M(5)\n",
        "N, M = map(int, input().split())\n",
        "\n",
        "array = list(map(int,input().split()))\n",
        "\n",
        "array.sort()\n",
        "st = []\n",
        "\n",
        "def dfs():\n",
        "    if len(st) == M:\n",
        "        print(*st)\n",
        "        return\n",
        "\n",
        "\n",
        "    for i in range(len(array)):\n",
        "\n",
        "        if array[i] not in st:\n",
        "            st.append(array[i])\n",
        "            dfs()\n",
        "            st.pop()\n",
        "dfs()"
      ],
      "metadata": {
        "colab": {
          "base_uri": "https://localhost:8080/",
          "height": 137
        },
        "id": "HiZf674oQKf3",
        "outputId": "e9ecb0da-8711-4ec2-f00d-b20f97b9a61a"
      },
      "execution_count": null,
      "outputs": [
        {
          "output_type": "error",
          "ename": "SyntaxError",
          "evalue": "ignored",
          "traceback": [
            "\u001b[0;36m  File \u001b[0;32m\"<ipython-input-3-2ac569376221>\"\u001b[0;36m, line \u001b[0;32m20\u001b[0m\n\u001b[0;31m    st.pop()/\u001b[0m\n\u001b[0m             ^\u001b[0m\n\u001b[0;31mSyntaxError\u001b[0m\u001b[0;31m:\u001b[0m invalid syntax\n"
          ]
        }
      ]
    },
    {
      "cell_type": "code",
      "source": [
        "# N과 M(6)\n",
        "\n",
        "N, M = map(int, input().split())\n",
        "array = list(map(int,input().split()))\n",
        "array.sort()\n",
        "\n",
        "st = []\n",
        "\n",
        "def dfs(start):\n",
        "    if len(st) == M:\n",
        "        print(*st)\n",
        "        return\n",
        "\n",
        "    for i in range(start, N):\n",
        "        if array[i] not in st:\n",
        "            st.append(array[i])\n",
        "            dfs(i)\n",
        "            st.pop()\n",
        "dfs(0)"
      ],
      "metadata": {
        "colab": {
          "base_uri": "https://localhost:8080/"
        },
        "id": "ZhEYMZNVnfZW",
        "outputId": "99ba1f71-cbfe-4154-f364-817896fc79b2"
      },
      "execution_count": null,
      "outputs": [
        {
          "output_type": "stream",
          "name": "stdout",
          "text": [
            "4 2\n",
            "9 8 7 1\n",
            "1 7\n",
            "1 8\n",
            "1 9\n",
            "7 8\n",
            "7 9\n",
            "8 9\n"
          ]
        }
      ]
    },
    {
      "cell_type": "code",
      "source": [
        "# N과 M(9)\n",
        "N, M = map(int, input().split())\n",
        "\n",
        "array = list(map(int,input().split()))\n",
        "\n",
        "array.sort()\n",
        "st = []\n",
        "V = []\n",
        "st2 = [ 0 for a in range(len(array))]\n",
        "\n",
        "\n",
        "\n",
        "def dfs(V):\n",
        "    # print('st와 V 상태')\n",
        "    # print(st)\n",
        "    # print(V)\n",
        "    if len(st) == M and st not in V:\n",
        "        print(*st)\n",
        "        return\n",
        "\n",
        "\n",
        "    for i in range(len(array)):\n",
        "        if st2[i] == 0:\n",
        "            st.append(array[i])\n",
        "\n",
        "            # print('현재 st 상태')\n",
        "            # print(st)\n",
        "\n",
        "            st2[i] = 1\n",
        "            print('st2에 방문 로그')\n",
        "            print(st2)\n",
        "\n",
        "            dfs(V)\n",
        "            V.append(st)\n",
        "\n",
        "            # print(V)\n",
        "\n",
        "\n",
        "\n",
        "            st.pop()\n",
        "            st2[i] = 0\n",
        "            print('방문 후 st2 로그')\n",
        "            print(st2)\n",
        "\n",
        "dfs(V)\n",
        "\n",
        "\n",
        "# a, b = map(int,input().split())\n",
        "# alist = sorted(list(map(int,input().split())))\n",
        "# pick = []\n",
        "# alen = len(alist)\n",
        "# d = [0]*alen\n",
        "# ar = set()\n",
        "# def dfs(cnt):\n",
        "#     if cnt == b:\n",
        "#         if tuple(pick) not in ar:\n",
        "#             print(*pick)\n",
        "#             ar.add(tuple(pick))\n",
        "#         return\n",
        "#     for i in range(alen):\n",
        "#         if d[i] != 1:\n",
        "#             pick.append(alist[i])\n",
        "#             d[i] = 1\n",
        "#             dfs(cnt+1)\n",
        "#             pick.pop()\n",
        "#             d[i]=0\n",
        "# dfs(0)"
      ],
      "metadata": {
        "colab": {
          "base_uri": "https://localhost:8080/"
        },
        "id": "wPGQXdI6ot4c",
        "outputId": "f5ff15c7-c49c-4149-a22c-1d3920f6f3ae"
      },
      "execution_count": null,
      "outputs": [
        {
          "output_type": "stream",
          "name": "stdout",
          "text": [
            "4 2\n",
            "9 7 9 1\n",
            "st2에 방문 로그\n",
            "[1, 0, 0, 0]\n",
            "st2에 방문 로그\n",
            "[1, 1, 0, 0]\n",
            "1 7\n",
            "방문 후 st2 로그\n",
            "[1, 0, 0, 0]\n",
            "st2에 방문 로그\n",
            "[1, 0, 1, 0]\n",
            "st2에 방문 로그\n",
            "[1, 1, 1, 0]\n",
            "st2에 방문 로그\n",
            "[1, 1, 1, 1]\n",
            "방문 후 st2 로그\n",
            "[1, 1, 1, 0]\n",
            "방문 후 st2 로그\n",
            "[1, 0, 1, 0]\n",
            "st2에 방문 로그\n",
            "[1, 0, 1, 1]\n",
            "st2에 방문 로그\n",
            "[1, 1, 1, 1]\n",
            "방문 후 st2 로그\n",
            "[1, 0, 1, 1]\n",
            "방문 후 st2 로그\n",
            "[1, 0, 1, 0]\n",
            "방문 후 st2 로그\n",
            "[1, 0, 0, 0]\n",
            "st2에 방문 로그\n",
            "[1, 0, 0, 1]\n",
            "st2에 방문 로그\n",
            "[1, 1, 0, 1]\n",
            "st2에 방문 로그\n",
            "[1, 1, 1, 1]\n",
            "방문 후 st2 로그\n",
            "[1, 1, 0, 1]\n",
            "방문 후 st2 로그\n",
            "[1, 0, 0, 1]\n",
            "st2에 방문 로그\n",
            "[1, 0, 1, 1]\n",
            "st2에 방문 로그\n",
            "[1, 1, 1, 1]\n",
            "방문 후 st2 로그\n",
            "[1, 0, 1, 1]\n",
            "방문 후 st2 로그\n",
            "[1, 0, 0, 1]\n",
            "방문 후 st2 로그\n",
            "[1, 0, 0, 0]\n",
            "방문 후 st2 로그\n",
            "[0, 0, 0, 0]\n",
            "st2에 방문 로그\n",
            "[0, 1, 0, 0]\n",
            "st2에 방문 로그\n",
            "[1, 1, 0, 0]\n",
            "st2에 방문 로그\n",
            "[1, 1, 1, 0]\n",
            "st2에 방문 로그\n",
            "[1, 1, 1, 1]\n",
            "방문 후 st2 로그\n",
            "[1, 1, 1, 0]\n",
            "방문 후 st2 로그\n",
            "[1, 1, 0, 0]\n",
            "st2에 방문 로그\n",
            "[1, 1, 0, 1]\n",
            "st2에 방문 로그\n",
            "[1, 1, 1, 1]\n",
            "방문 후 st2 로그\n",
            "[1, 1, 0, 1]\n",
            "방문 후 st2 로그\n",
            "[1, 1, 0, 0]\n",
            "방문 후 st2 로그\n",
            "[0, 1, 0, 0]\n",
            "st2에 방문 로그\n",
            "[0, 1, 1, 0]\n",
            "st2에 방문 로그\n",
            "[1, 1, 1, 0]\n",
            "st2에 방문 로그\n",
            "[1, 1, 1, 1]\n",
            "방문 후 st2 로그\n",
            "[1, 1, 1, 0]\n",
            "방문 후 st2 로그\n",
            "[0, 1, 1, 0]\n",
            "st2에 방문 로그\n",
            "[0, 1, 1, 1]\n",
            "st2에 방문 로그\n",
            "[1, 1, 1, 1]\n",
            "방문 후 st2 로그\n",
            "[0, 1, 1, 1]\n",
            "방문 후 st2 로그\n",
            "[0, 1, 1, 0]\n",
            "방문 후 st2 로그\n",
            "[0, 1, 0, 0]\n",
            "st2에 방문 로그\n",
            "[0, 1, 0, 1]\n",
            "st2에 방문 로그\n",
            "[1, 1, 0, 1]\n",
            "st2에 방문 로그\n",
            "[1, 1, 1, 1]\n",
            "방문 후 st2 로그\n",
            "[1, 1, 0, 1]\n",
            "방문 후 st2 로그\n",
            "[0, 1, 0, 1]\n",
            "st2에 방문 로그\n",
            "[0, 1, 1, 1]\n",
            "st2에 방문 로그\n",
            "[1, 1, 1, 1]\n",
            "방문 후 st2 로그\n",
            "[0, 1, 1, 1]\n",
            "방문 후 st2 로그\n",
            "[0, 1, 0, 1]\n",
            "방문 후 st2 로그\n",
            "[0, 1, 0, 0]\n",
            "방문 후 st2 로그\n",
            "[0, 0, 0, 0]\n",
            "st2에 방문 로그\n",
            "[0, 0, 1, 0]\n",
            "st2에 방문 로그\n",
            "[1, 0, 1, 0]\n",
            "st2에 방문 로그\n",
            "[1, 1, 1, 0]\n",
            "st2에 방문 로그\n",
            "[1, 1, 1, 1]\n",
            "방문 후 st2 로그\n",
            "[1, 1, 1, 0]\n",
            "방문 후 st2 로그\n",
            "[1, 0, 1, 0]\n",
            "st2에 방문 로그\n",
            "[1, 0, 1, 1]\n",
            "st2에 방문 로그\n",
            "[1, 1, 1, 1]\n",
            "방문 후 st2 로그\n",
            "[1, 0, 1, 1]\n",
            "방문 후 st2 로그\n",
            "[1, 0, 1, 0]\n",
            "방문 후 st2 로그\n",
            "[0, 0, 1, 0]\n",
            "st2에 방문 로그\n",
            "[0, 1, 1, 0]\n",
            "st2에 방문 로그\n",
            "[1, 1, 1, 0]\n",
            "st2에 방문 로그\n",
            "[1, 1, 1, 1]\n",
            "방문 후 st2 로그\n",
            "[1, 1, 1, 0]\n",
            "방문 후 st2 로그\n",
            "[0, 1, 1, 0]\n",
            "st2에 방문 로그\n",
            "[0, 1, 1, 1]\n",
            "st2에 방문 로그\n",
            "[1, 1, 1, 1]\n",
            "방문 후 st2 로그\n",
            "[0, 1, 1, 1]\n",
            "방문 후 st2 로그\n",
            "[0, 1, 1, 0]\n",
            "방문 후 st2 로그\n",
            "[0, 0, 1, 0]\n",
            "st2에 방문 로그\n",
            "[0, 0, 1, 1]\n",
            "st2에 방문 로그\n",
            "[1, 0, 1, 1]\n",
            "st2에 방문 로그\n",
            "[1, 1, 1, 1]\n",
            "방문 후 st2 로그\n",
            "[1, 0, 1, 1]\n",
            "방문 후 st2 로그\n",
            "[0, 0, 1, 1]\n",
            "st2에 방문 로그\n",
            "[0, 1, 1, 1]\n",
            "st2에 방문 로그\n",
            "[1, 1, 1, 1]\n",
            "방문 후 st2 로그\n",
            "[0, 1, 1, 1]\n",
            "방문 후 st2 로그\n",
            "[0, 0, 1, 1]\n",
            "방문 후 st2 로그\n",
            "[0, 0, 1, 0]\n",
            "방문 후 st2 로그\n",
            "[0, 0, 0, 0]\n",
            "st2에 방문 로그\n",
            "[0, 0, 0, 1]\n",
            "st2에 방문 로그\n",
            "[1, 0, 0, 1]\n",
            "st2에 방문 로그\n",
            "[1, 1, 0, 1]\n",
            "st2에 방문 로그\n",
            "[1, 1, 1, 1]\n",
            "방문 후 st2 로그\n",
            "[1, 1, 0, 1]\n",
            "방문 후 st2 로그\n",
            "[1, 0, 0, 1]\n",
            "st2에 방문 로그\n",
            "[1, 0, 1, 1]\n",
            "st2에 방문 로그\n",
            "[1, 1, 1, 1]\n",
            "방문 후 st2 로그\n",
            "[1, 0, 1, 1]\n",
            "방문 후 st2 로그\n",
            "[1, 0, 0, 1]\n",
            "방문 후 st2 로그\n",
            "[0, 0, 0, 1]\n",
            "st2에 방문 로그\n",
            "[0, 1, 0, 1]\n",
            "st2에 방문 로그\n",
            "[1, 1, 0, 1]\n",
            "st2에 방문 로그\n",
            "[1, 1, 1, 1]\n",
            "방문 후 st2 로그\n",
            "[1, 1, 0, 1]\n",
            "방문 후 st2 로그\n",
            "[0, 1, 0, 1]\n",
            "st2에 방문 로그\n",
            "[0, 1, 1, 1]\n",
            "st2에 방문 로그\n",
            "[1, 1, 1, 1]\n",
            "방문 후 st2 로그\n",
            "[0, 1, 1, 1]\n",
            "방문 후 st2 로그\n",
            "[0, 1, 0, 1]\n",
            "방문 후 st2 로그\n",
            "[0, 0, 0, 1]\n",
            "st2에 방문 로그\n",
            "[0, 0, 1, 1]\n",
            "st2에 방문 로그\n",
            "[1, 0, 1, 1]\n",
            "st2에 방문 로그\n",
            "[1, 1, 1, 1]\n",
            "방문 후 st2 로그\n",
            "[1, 0, 1, 1]\n",
            "방문 후 st2 로그\n",
            "[0, 0, 1, 1]\n",
            "st2에 방문 로그\n",
            "[0, 1, 1, 1]\n",
            "st2에 방문 로그\n",
            "[1, 1, 1, 1]\n",
            "방문 후 st2 로그\n",
            "[0, 1, 1, 1]\n",
            "방문 후 st2 로그\n",
            "[0, 0, 1, 1]\n",
            "방문 후 st2 로그\n",
            "[0, 0, 0, 1]\n",
            "방문 후 st2 로그\n",
            "[0, 0, 0, 0]\n"
          ]
        }
      ]
    },
    {
      "cell_type": "code",
      "source": [
        "# array 길이 만큼 스택 개수 늘려서 방문 확인 로직을 만듬\n",
        "# 방문하면 해당 인덱스 +1 조건으로 해당 인덱스 1이면 그냥 패스\n",
        "\n",
        "N, M = map(int, input().split())\n",
        "\n",
        "array = list(map(int,input().split()))\n",
        "\n",
        "array.sort()\n",
        "st = []\n",
        "\n",
        "st2 = [ 0 for a in range(len(array))]\n",
        "\n",
        "print(st2)\n",
        "\n",
        "def dfs():\n",
        "    if len(st) == M:\n",
        "        print(*st)\n",
        "        return\n",
        "\n",
        "\n",
        "    for i in range(len(array)):\n",
        "\n",
        "        if st2[i] == 0:\n",
        "            st.append(array[i])\n",
        "            st2[i] = 1\n",
        "            print('방문 로그')\n",
        "            print(st2)\n",
        "            dfs()\n",
        "            st.pop()\n",
        "            st2[i] = 0\n",
        "            print('삭제 후 로그')\n",
        "            print(st2)\n",
        "\n",
        "dfs()"
      ],
      "metadata": {
        "colab": {
          "base_uri": "https://localhost:8080/"
        },
        "id": "DQb87U3UMokx",
        "outputId": "edb05318-2908-4dfb-deab-df5c6d363cdb"
      },
      "execution_count": null,
      "outputs": [
        {
          "output_type": "stream",
          "name": "stdout",
          "text": [
            "4 2\n",
            "9 7 9 1\n",
            "[0, 0, 0, 0]\n",
            "방문 로그\n",
            "[1, 0, 0, 0]\n",
            "방문 로그\n",
            "[1, 1, 0, 0]\n",
            "1 7\n",
            "삭제 후 로그\n",
            "[1, 0, 0, 0]\n",
            "방문 로그\n",
            "[1, 0, 1, 0]\n",
            "1 9\n",
            "삭제 후 로그\n",
            "[1, 0, 0, 0]\n",
            "방문 로그\n",
            "[1, 0, 0, 1]\n",
            "1 9\n",
            "삭제 후 로그\n",
            "[1, 0, 0, 0]\n",
            "삭제 후 로그\n",
            "[0, 0, 0, 0]\n",
            "방문 로그\n",
            "[0, 1, 0, 0]\n",
            "방문 로그\n",
            "[1, 1, 0, 0]\n",
            "7 1\n",
            "삭제 후 로그\n",
            "[0, 1, 0, 0]\n",
            "방문 로그\n",
            "[0, 1, 1, 0]\n",
            "7 9\n",
            "삭제 후 로그\n",
            "[0, 1, 0, 0]\n",
            "방문 로그\n",
            "[0, 1, 0, 1]\n",
            "7 9\n",
            "삭제 후 로그\n",
            "[0, 1, 0, 0]\n",
            "삭제 후 로그\n",
            "[0, 0, 0, 0]\n",
            "방문 로그\n",
            "[0, 0, 1, 0]\n",
            "방문 로그\n",
            "[1, 0, 1, 0]\n",
            "9 1\n",
            "삭제 후 로그\n",
            "[0, 0, 1, 0]\n",
            "방문 로그\n",
            "[0, 1, 1, 0]\n",
            "9 7\n",
            "삭제 후 로그\n",
            "[0, 0, 1, 0]\n",
            "방문 로그\n",
            "[0, 0, 1, 1]\n",
            "9 9\n",
            "삭제 후 로그\n",
            "[0, 0, 1, 0]\n",
            "삭제 후 로그\n",
            "[0, 0, 0, 0]\n",
            "방문 로그\n",
            "[0, 0, 0, 1]\n",
            "방문 로그\n",
            "[1, 0, 0, 1]\n",
            "9 1\n",
            "삭제 후 로그\n",
            "[0, 0, 0, 1]\n",
            "방문 로그\n",
            "[0, 1, 0, 1]\n",
            "9 7\n",
            "삭제 후 로그\n",
            "[0, 0, 0, 1]\n",
            "방문 로그\n",
            "[0, 0, 1, 1]\n",
            "9 9\n",
            "삭제 후 로그\n",
            "[0, 0, 0, 1]\n",
            "삭제 후 로그\n",
            "[0, 0, 0, 0]\n"
          ]
        }
      ]
    },
    {
      "cell_type": "code",
      "source": [
        "N, M = map(int, input().split())\n",
        "\n",
        "array = list(map(int,input().split()))\n",
        "\n",
        "array.sort()\n",
        "st = []\n",
        "\n",
        "st2 = [ 0 for a in range(len(array))]\n",
        "\n",
        "\n",
        "\n",
        "def dfs(V):\n",
        "    if len(st) == M:\n",
        "        print(*st)\n",
        "        return\n",
        "\n",
        "\n",
        "    for i in range(len(array)):\n",
        "        if st2[i] == 0:\n",
        "            st.append(array[i])\n",
        "            st2[i] = 1\n",
        "            print(st2)\n",
        "\n",
        "            dfs(st)\n",
        "            st2[i] = 0\n",
        "            st.pop()\n",
        "\n",
        "dfs(st)"
      ],
      "metadata": {
        "colab": {
          "base_uri": "https://localhost:8080/"
        },
        "id": "jqPqjoC6uhaE",
        "outputId": "5b64e4db-98eb-459e-c56a-07659db43e38"
      },
      "execution_count": null,
      "outputs": [
        {
          "output_type": "stream",
          "name": "stdout",
          "text": [
            "4 2\n",
            "9 7 9 1\n",
            "[1, 0, 0, 0]\n",
            "[1, 1, 0, 0]\n",
            "1 7\n",
            "[1, 0, 1, 0]\n",
            "1 9\n",
            "[1, 0, 0, 1]\n",
            "1 9\n",
            "[0, 1, 0, 0]\n",
            "[1, 1, 0, 0]\n",
            "7 1\n",
            "[0, 1, 1, 0]\n",
            "7 9\n",
            "[0, 1, 0, 1]\n",
            "7 9\n",
            "[0, 0, 1, 0]\n",
            "[1, 0, 1, 0]\n",
            "9 1\n",
            "[0, 1, 1, 0]\n",
            "9 7\n",
            "[0, 0, 1, 1]\n",
            "9 9\n",
            "[0, 0, 0, 1]\n",
            "[1, 0, 0, 1]\n",
            "9 1\n",
            "[0, 1, 0, 1]\n",
            "9 7\n",
            "[0, 0, 1, 1]\n",
            "9 9\n"
          ]
        }
      ]
    },
    {
      "cell_type": "code",
      "source": [
        "# LV.1 삼총사\n",
        "\n",
        "# def solution(number):\n",
        "#     st = []\n",
        "#     cnt = 0\n",
        "#     for i in range(len(number)):\n",
        "#         st.append(number[i])\n",
        "#         for j in range(i+1 ,len(number)):\n",
        "#             st.append(number[j])\n",
        "#             for k in range(j+1, len(number)):\n",
        "#                 st.append(number[k])\n",
        "#                 if sum(st) == 0:\n",
        "#                     cnt += 1\n",
        "#                     st.pop()\n",
        "#                 else:\n",
        "#                     st.pop()\n",
        "#             st.pop()\n",
        "#         st.pop()\n",
        "#     return cnt\n",
        "\n",
        "\n",
        "#   재귀함수 dfs 풀이법\n",
        "# global 전역변수\n",
        "# nonlocal 중첩 함수 내에서 비지역(nonlocal/closing) 변수를 대상으로 사용 (해당 함수 밖에 변수를 사용)\n",
        "\n",
        "\n",
        "# tot = 0\n",
        "\n",
        "def solution(number):\n",
        "    tot = 0\n",
        "    def dfs(i, cnt, sum_num):\n",
        "        nonlocal tot\n",
        "        # global tot\n",
        "        if cnt == 3 and not sum_num:\n",
        "            tot += 1\n",
        "            return\n",
        "\n",
        "        if i == len(number):\n",
        "            return\n",
        "\n",
        "        if cnt < 3:\n",
        "            dfs(i+1, cnt+1, sum_num + number[i])\n",
        "            dfs(i+1, cnt, sum_num)\n",
        "\n",
        "    dfs(0,0,0)\n",
        "\n",
        "    return tot\n",
        "\n",
        "print(solution([-3, -2, -1, 0, 1, 2, 3]))"
      ],
      "metadata": {
        "colab": {
          "base_uri": "https://localhost:8080/"
        },
        "id": "O9tV1151INSU",
        "outputId": "aa411192-3c1f-4b95-c0e7-57d4b43068c8"
      },
      "execution_count": null,
      "outputs": [
        {
          "output_type": "stream",
          "name": "stdout",
          "text": [
            "5\n"
          ]
        }
      ]
    },
    {
      "cell_type": "code",
      "source": [
        "# LV.1 K번째수\n",
        "\n",
        "# Refactoring\n",
        "def solution(array, commands):\n",
        "    answer = []\n",
        "    for command in commands:\n",
        "        i,j,k = command\n",
        "        answer.append(list(sorted(array[i-1:j]))[k-1])\n",
        "    return answer"
      ],
      "metadata": {
        "id": "J9YSOHIOIVQW",
        "colab": {
          "base_uri": "https://localhost:8080/"
        },
        "outputId": "84cb9d6c-7c0f-4dc8-9602-65474c4971e5"
      },
      "execution_count": null,
      "outputs": [
        {
          "output_type": "stream",
          "name": "stdout",
          "text": [
            "[5, 4, 3, 2, 1]\n",
            "5\n",
            "4\n",
            "3\n",
            "2\n",
            "1\n"
          ]
        }
      ]
    },
    {
      "cell_type": "code",
      "source": [
        "# LV.1 2016년\n",
        "\n",
        "# 2016년 1월 1일은 금요일\n",
        "# 윤달은 2월이 29일까지 있다\n",
        "\n",
        "# 접근방법 1. 자료형으로 만들기\n",
        "# 접근방법 2. 1월 1일부터 시작하는 날짜 배열을 만들고 홀수달 짝수달 윤달에 따른 총 날짜를 구하고 날짜 배열의 인덱스를 정해줌\n",
        "\n",
        "# 1. 자료형으로 만들어 풀기\n",
        "def solution(a,b):\n",
        "    # 해당 달의 날짜\n",
        "    month = [31, 29, 31, 30, 31, 30, 31, 31, 30, 31, 30, 31]\n",
        "    day = ['FRI', 'SAT', 'SUN', 'MON', 'TUE', 'WED', 'THU']\n",
        "    return day[(sum(month[:a-1])+b-1)%7]\n",
        "\n",
        "# def solution(a, b):\n",
        "#     answer = ''\n",
        "#     dic = ['FRI', 'SAT', 'SUN', 'MON', 'TUE', 'WED', 'THU']\n",
        "\n",
        "#     if a > 1:\n",
        "#         for i in range(1, a):\n",
        "#             if i < 8:\n",
        "#                 if i % 2 == 1:\n",
        "#                     b += 31\n",
        "#                 elif i == 2:\n",
        "#                     b += 29\n",
        "#                 else:\n",
        "#                     b += 30\n",
        "#             if i > 7:\n",
        "#                 if i % 2 == 0:\n",
        "#                     b += 31\n",
        "#                 else:\n",
        "#                     b += 30\n",
        "#     answer = dic[(b % 7) - 1]\n",
        "#     return answer"
      ],
      "metadata": {
        "id": "hOATeLdjy3XF"
      },
      "execution_count": null,
      "outputs": []
    },
    {
      "cell_type": "code",
      "source": [
        "# LV.1 실패율\n",
        "\n",
        "# 실패율 = 스테이지 도달했으나 아직 클리어하지 못한 p의 합 / 스테이지 도달한 p의 합\n",
        "# 사용자가 현재 멈춰있는 스테이지 번호 배열 = stages\n",
        "# 실패율 높은 스테이지부터 내림차순\n",
        "# 실패율이 같은 스테이지가 있을 때 작은 번호의 스테이지가 먼저 온다.\n",
        "# ex.1\n",
        "# 1번 스테이지 실패율 = (1/8)\n",
        "# 2번 스테이지 실패율 = (3/7)\n",
        "# 3번 스테이지 실패율 = (2/4)\n",
        "# 4번 스테이지 실패율 = (1/2)\n",
        "# 5번 스테이지 실패율 = (0/1)\n",
        "# result = [3,4,2,1,5]\n",
        "\n",
        "# 접근 방법 1\n",
        "# 스테이지별 실패율 자료형 dic을 만듬 실패율을 키 값으로 내림차순 정렬\n",
        "# dic for문돌려서 [0]인덱스 값 answer.append 후 리턴\n",
        "\n",
        "# 중복제거를 해주는 조건문이 필요함\n",
        "\n",
        "# 내가 푼 방법\n",
        "# 초기 2차원 배열을 만들어 줌 (남은 플레이어가 없을 때 for문 탈출을 위함)\n",
        "# 초기 값으로 전체 인원수와 각 스테이지별 실패 인원수를 구해 실패율을 넣어줌\n",
        "\n",
        "# from collections import deque\n",
        "def solution(N, stages):\n",
        "    answer = []\n",
        "    # dic = []\n",
        "\n",
        "    dic = [[_,0] for _ in range(1, N+1)]\n",
        "    start = 0\n",
        "    length = len(stages)\n",
        "    stages.sort()\n",
        "    # s_q = deque(stages)\n",
        "\n",
        "    for i in range(1, N+1):\n",
        "        cnt = 0\n",
        "        if length > 0:\n",
        "            for j in range(start, len(stages)):\n",
        "                if stages[j] == i:\n",
        "                    cnt += 1\n",
        "                    start += 1\n",
        "                else:\n",
        "                    break\n",
        "            dic[i-1][1] = cnt/length\n",
        "            length -= cnt\n",
        "        else:\n",
        "            break\n",
        "\n",
        "    # for i in range(1, N+1):\n",
        "    #     temp = []\n",
        "    #     length = len(s_q)\n",
        "    #     cnt = 0\n",
        "    #     while s_q:\n",
        "    #         if s_q[0] == i:\n",
        "    #             s_q.popleft()\n",
        "    #             cnt += 1\n",
        "    #         else:\n",
        "    #             break\n",
        "    #     # dic[i] = cnt/length\n",
        "    #     temp.append(i)\n",
        "    #     temp.append(cnt/length)\n",
        "    #     dic.append(temp)\n",
        "    # print(dic)\n",
        "    dic.sort(reverse=True, key=lambda x:x[1])\n",
        "    for k in dic:\n",
        "        answer.append(k[0])\n",
        "    return answer\n"
      ],
      "metadata": {
        "id": "E545P-XeFAOC"
      },
      "execution_count": null,
      "outputs": []
    }
  ]
}